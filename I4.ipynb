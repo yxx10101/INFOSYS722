{
 "cells": [
  {
   "cell_type": "code",
   "execution_count": 1,
   "id": "462f9b7a",
   "metadata": {},
   "outputs": [
    {
     "name": "stderr",
     "output_type": "stream",
     "text": [
      "WARNING: An illegal reflective access operation has occurred\n",
      "WARNING: Illegal reflective access by org.apache.spark.unsafe.Platform (file:/home/ubuntu/spark-3.2.1-bin-hadoop2.7/jars/spark-unsafe_2.12-3.2.1.jar) to constructor java.nio.DirectByteBuffer(long,int)\n",
      "WARNING: Please consider reporting this to the maintainers of org.apache.spark.unsafe.Platform\n",
      "WARNING: Use --illegal-access=warn to enable warnings of further illegal reflective access operations\n",
      "WARNING: All illegal access operations will be denied in a future release\n",
      "Using Spark's default log4j profile: org/apache/spark/log4j-defaults.properties\n",
      "Setting default log level to \"WARN\".\n",
      "To adjust logging level use sc.setLogLevel(newLevel). For SparkR, use setLogLevel(newLevel).\n",
      "24/05/18 17:19:22 WARN NativeCodeLoader: Unable to load native-hadoop library for your platform... using builtin-java classes where applicable\n"
     ]
    }
   ],
   "source": [
    "import findspark\n",
    "findspark.init('/home/ubuntu/spark-3.2.1-bin-hadoop2.7')\n",
    "import pyspark\n",
    "from pyspark.sql import SparkSession\n",
    "spark = SparkSession.builder.appName('722I4').getOrCreate()"
   ]
  },
  {
   "cell_type": "code",
   "execution_count": 2,
   "id": "65c0a5e9",
   "metadata": {},
   "outputs": [],
   "source": [
    "from pyspark.sql.functions import lit\n",
    "import matplotlib.pyplot as plt\n",
    "from pyspark.sql.functions import col"
   ]
  },
  {
   "cell_type": "code",
   "execution_count": 3,
   "id": "0a61e9ee",
   "metadata": {
    "scrolled": true
   },
   "outputs": [
    {
     "name": "stderr",
     "output_type": "stream",
     "text": [
      "                                                                                \r"
     ]
    },
    {
     "name": "stdout",
     "output_type": "stream",
     "text": [
      "root\n",
      " |-- gameId: string (nullable = true)\n",
      " |-- gameDuration: double (nullable = true)\n",
      " |-- level: integer (nullable = true)\n",
      " |-- lastRound: integer (nullable = true)\n",
      " |-- Ranked: integer (nullable = true)\n",
      " |-- ingameDuration: double (nullable = true)\n",
      " |-- combination: string (nullable = true)\n",
      " |-- champion: string (nullable = true)\n",
      "\n"
     ]
    },
    {
     "name": "stderr",
     "output_type": "stream",
     "text": [
      "                                                                                \r"
     ]
    },
    {
     "name": "stdout",
     "output_type": "stream",
     "text": [
      "root\n",
      " |-- gameId: string (nullable = true)\n",
      " |-- gameDuration: double (nullable = true)\n",
      " |-- level: integer (nullable = true)\n",
      " |-- lastRound: integer (nullable = true)\n",
      " |-- Ranked: integer (nullable = true)\n",
      " |-- ingameDuration: double (nullable = true)\n",
      " |-- combination: string (nullable = true)\n",
      " |-- champion: string (nullable = true)\n",
      "\n"
     ]
    },
    {
     "name": "stderr",
     "output_type": "stream",
     "text": [
      "\r",
      "[Stage 5:>                                                          (0 + 2) / 2]\r",
      "\r",
      "                                                                                \r"
     ]
    },
    {
     "name": "stdout",
     "output_type": "stream",
     "text": [
      "root\n",
      " |-- gameId: string (nullable = true)\n",
      " |-- gameDuration: double (nullable = true)\n",
      " |-- level: integer (nullable = true)\n",
      " |-- lastRound: integer (nullable = true)\n",
      " |-- Ranked: integer (nullable = true)\n",
      " |-- ingameDuration: double (nullable = true)\n",
      " |-- combination: string (nullable = true)\n",
      " |-- champion: string (nullable = true)\n",
      "\n",
      "root\n",
      " |-- gameId: string (nullable = true)\n",
      " |-- gameDuration: double (nullable = true)\n",
      " |-- level: integer (nullable = true)\n",
      " |-- lastRound: integer (nullable = true)\n",
      " |-- Ranked: integer (nullable = true)\n",
      " |-- ingameDuration: double (nullable = true)\n",
      " |-- combination: string (nullable = true)\n",
      " |-- champion: string (nullable = true)\n",
      "\n",
      "root\n",
      " |-- gameId: string (nullable = true)\n",
      " |-- gameDuration: double (nullable = true)\n",
      " |-- level: integer (nullable = true)\n",
      " |-- lastRound: integer (nullable = true)\n",
      " |-- Ranked: integer (nullable = true)\n",
      " |-- ingameDuration: double (nullable = true)\n",
      " |-- combination: string (nullable = true)\n",
      " |-- champion: string (nullable = true)\n",
      "\n"
     ]
    }
   ],
   "source": [
    "#To read the datasets\n",
    "df1 = spark.read.csv('Dataset/TFT_Challenger_MatchData.csv', inferSchema=True, header=True)\n",
    "df1.printSchema()\n",
    "\n",
    "df2 = spark.read.csv('Dataset/TFT_Diamond_MatchData.csv', inferSchema=True, header=True)\n",
    "df2.printSchema()\n",
    "\n",
    "df3 = spark.read.csv('Dataset/TFT_GrandMaster_MatchData.csv', inferSchema=True, header=True)\n",
    "df3.printSchema()\n",
    "\n",
    "df4 = spark.read.csv('Dataset/TFT_Master_MatchData.csv', inferSchema=True, header=True)\n",
    "df4.printSchema()\n",
    "\n",
    "df5 = spark.read.csv('Dataset/TFT_Platinum_MatchData .csv', inferSchema=True, header=True)\n",
    "df5.printSchema()"
   ]
  },
  {
   "cell_type": "code",
   "execution_count": 4,
   "id": "b6841964",
   "metadata": {
    "scrolled": true
   },
   "outputs": [
    {
     "name": "stdout",
     "output_type": "stream",
     "text": [
      "+-------------+------------+-----+---------+------+--------------+--------------------+--------------------+\n",
      "|       gameId|gameDuration|level|lastRound|Ranked|ingameDuration|         combination|            champion|\n",
      "+-------------+------------+-----+---------+------+--------------+--------------------+--------------------+\n",
      "|KR_4247538593| 2142.470703|    8|       35|     1|   2134.272217|   \"{\"\"DarkStar\"\": 2|    \"\"Protector\"\": 4|\n",
      "|KR_4247538593| 2142.470703|    9|       35|     2|   2134.272217|    \"{\"\"Blaster\"\": 2|    \"\"Mercenary\"\": 1|\n",
      "|KR_4247538593| 2142.470703|    8|       34|     3|   2073.459229| \"{\"\"Cybernetic\"\": 1|     \"\"DarkStar\"\": 3|\n",
      "|KR_4247538593| 2142.470703|    8|       33|     4|   1998.146729|    \"{\"\"Blaster\"\": 1|   \"\"Cybernetic\"\": 1|\n",
      "|KR_4247538593| 2142.470703|    9|       33|     5|   1986.443237|    \"{\"\"Blaster\"\": 2| \"\"Demolitionist\"...|\n",
      "|KR_4247538593| 2142.470703|    8|       31|     6|   1878.470093|    \"{\"\"Blaster\"\": 2| \"\"Demolitionist\"...|\n",
      "|KR_4247538593| 2142.470703|    9|       31|     7|   1866.661499|    \"{\"\"Blaster\"\": 4|       \"\"Chrono\"\": 2|\n",
      "|KR_4247538593| 2142.470703|    8|       28|     8|   1694.417358|    \"{\"\"Blaster\"\": 4|       \"\"Chrono\"\": 2|\n",
      "|KR_4247595409| 2386.106201|    9|       41|     1|   2377.768066|    \"{\"\"Blaster\"\": 2| \"\"Demolitionist\"...|\n",
      "|KR_4247595409| 2386.106201|    9|       41|     2|   2377.768066|    \"{\"\"Blaster\"\": 4|       \"\"Chrono\"\": 2|\n",
      "|KR_4247595409| 2386.106201|    9|       34|     3|    2026.86377|     \"{\"\"Chrono\"\": 1|     \"\"DarkStar\"\": 3|\n",
      "|KR_4247595409| 2386.106201|    6|       31|     4|   1860.638428|   \"{\"\"DarkStar\"\": 2|  \"\"Infiltrator\"\": 1|\n",
      "|KR_4247595409| 2386.106201|    8|       31|     5|   1852.539673|    \"{\"\"Blaster\"\": 1|     \"\"DarkStar\"\": 2|\n",
      "|KR_4247595409| 2386.106201|    7|       30|     6|    1794.65625| \"{\"\"Cybernetic\"\": 1|     \"\"DarkStar\"\": 2|\n",
      "|KR_4247595409| 2386.106201|    8|       28|     7|   1662.611694|    \"{\"\"Blaster\"\": 4|       \"\"Chrono\"\": 2|\n",
      "|KR_4247595409| 2386.106201|    6|       24|     8|    1418.43457|   \"{\"\"DarkStar\"\": 1|    \"\"Protector\"\": 4|\n",
      "|KR_4247613214| 2232.942627|    8|       38|     1|   2224.601563|    \"{\"\"Blaster\"\": 2| \"\"Demolitionist\"...|\n",
      "|KR_4247613214| 2232.942627|    8|       38|     2|   2224.601563|    \"{\"\"Blaster\"\": 2| \"\"Demolitionist\"...|\n",
      "|KR_4247613214| 2232.942627|    9|       37|     3|   2158.790283|\"{\"\"Demolitionist...|    \"\"Mercenary\"\": 1|\n",
      "|KR_4247613214| 2232.942627|    8|       34|     4|    2007.17334|    \"{\"\"Blaster\"\": 4|       \"\"Chrono\"\": 2|\n",
      "+-------------+------------+-----+---------+------+--------------+--------------------+--------------------+\n",
      "only showing top 20 rows\n",
      "\n",
      "+-------------+------------+-----+---------+------+--------------+-----------------+--------------------+\n",
      "|       gameId|gameDuration|level|lastRound|Ranked|ingameDuration|      combination|            champion|\n",
      "+-------------+------------+-----+---------+------+--------------+-----------------+--------------------+\n",
      "|KR_4357546733| 2326.065674|    8|       37|     4|   2089.551514|\"{\"\"DarkStar\"\": 2|    \"\"Protector\"\": 4|\n",
      "|KR_4357546733| 2326.065674|    7|       26|     7|   1467.931519|  \"{\"\"Chrono\"\": 1|   \"\"Cybernetic\"\": 1|\n",
      "|KR_4357546733| 2326.065674|    7|       26|     8|   1464.743164|\"{\"\"DarkStar\"\": 1|    \"\"Protector\"\": 1|\n",
      "|KR_4357546733| 2326.065674|    8|       35|     5|   2008.209961|  \"{\"\"Chrono\"\": 2|   \"\"Cybernetic\"\": 1|\n",
      "|KR_4357546733| 2326.065674|    7|       41|     2|   2317.777588|\"{\"\"DarkStar\"\": 1| \"\"Demolitionist\"...|\n",
      "|KR_4357546733| 2326.065674|    8|       34|     6|   1932.544556| \"{\"\"Blaster\"\": 4|       \"\"Chrono\"\": 2|\n",
      "|KR_4357546733| 2326.065674|    9|       41|     1|   2317.777588|  \"{\"\"Chrono\"\": 2|     \"\"DarkStar\"\": 1|\n",
      "|KR_4357546733| 2326.065674|    9|       40|     3|   2249.602783| \"{\"\"Blaster\"\": 1|       \"\"Chrono\"\": 2|\n",
      "|KR_4386549686| 2108.342285|    8|       30|     7|   1678.776367| \"{\"\"Blaster\"\": 1|       \"\"Chrono\"\": 1|\n",
      "|KR_4386549686| 2108.342285|    8|       34|     4|   1893.583374| \"{\"\"Blaster\"\": 3|       \"\"Chrono\"\": 2|\n",
      "|KR_4386549686| 2108.342285|    8|       34|     3|   1893.881348| \"{\"\"Blaster\"\": 2|       \"\"Chrono\"\": 4|\n",
      "|KR_4386549686| 2108.342285|    8|       38|     2|   2100.056152|\"{\"\"DarkStar\"\": 1| \"\"Demolitionist\"...|\n",
      "|KR_4386549686| 2108.342285|    9|       33|     5|   1839.648438| \"{\"\"Blaster\"\": 1|     \"\"DarkStar\"\": 1|\n",
      "|KR_4386549686| 2108.342285|    7|       27|     8|    1523.08667|  \"{\"\"Chrono\"\": 2|   \"\"Cybernetic\"\": 1|\n",
      "|KR_4386549686| 2108.342285|    8|       31|     6|   1738.415649|  \"{\"\"Chrono\"\": 3|   \"\"Cybernetic\"\": 2|\n",
      "|KR_4386549686| 2108.342285|    9|       38|     1|   2100.056152| \"{\"\"Blaster\"\": 2| \"\"Demolitionist\"...|\n",
      "|KR_4313467722| 2189.067627|    8|       34|     5|   1865.764893|\"{\"\"DarkStar\"\": 1|    \"\"Protector\"\": 1|\n",
      "|KR_4313467722| 2189.067627|    6|       26|     8|   1438.372803|\"{\"\"DarkStar\"\": 1|    \"\"Protector\"\": 4|\n",
      "|KR_4313467722| 2189.067627|    8|       33|     6|   1807.842407|\"{\"\"DarkStar\"\": 6|  \"\"Infiltrator\"\": 1|\n",
      "|KR_4313467722| 2189.067627|    7|       30|     7|   1654.360962|\"{\"\"DarkStar\"\": 1|    \"\"Protector\"\": 1|\n",
      "+-------------+------------+-----+---------+------+--------------+-----------------+--------------------+\n",
      "only showing top 20 rows\n",
      "\n",
      "+-------------+------------+-----+---------+------+--------------+-------------------+--------------------+\n",
      "|       gameId|gameDuration|level|lastRound|Ranked|ingameDuration|        combination|            champion|\n",
      "+-------------+------------+-----+---------+------+--------------+-------------------+--------------------+\n",
      "|KR_4254769102| 2319.661377|    9|       38|     1|   2311.472168|   \"{\"\"Blaster\"\": 4|       \"\"Chrono\"\": 2|\n",
      "|KR_4254769102| 2319.661377|    9|       38|     2|   2311.472168|   \"{\"\"Blaster\"\": 2|       \"\"Chrono\"\": 2|\n",
      "|KR_4254769102| 2319.661377|    9|       37|     3|   2247.994873|  \"{\"\"DarkStar\"\": 2|    \"\"Protector\"\": 4|\n",
      "|KR_4254769102| 2319.661377|    7|       33|     4|   1996.358643|  \"{\"\"DarkStar\"\": 2| \"\"Demolitionist\"...|\n",
      "|KR_4254769102| 2319.661377|    8|       31|     5|   1871.789551|    \"{\"\"Chrono\"\": 1|   \"\"Cybernetic\"\": 1|\n",
      "|KR_4254769102| 2319.661377|    9|       30|     6|   1804.010986|   \"{\"\"Blaster\"\": 2| \"\"Demolitionist\"...|\n",
      "|KR_4254769102| 2319.661377|    7|       28|     7|   1707.270996|\"{\"\"Cybernetic\"\": 1|     \"\"DarkStar\"\": 2|\n",
      "|KR_4254769102| 2319.661377|    8|       27|     8|   1629.130859|   \"{\"\"Blaster\"\": 2| \"\"Demolitionist\"...|\n",
      "|KR_4260599131| 2061.984131|    8|       35|     1|   2053.580811|  \"{\"\"DarkStar\"\": 3| \"\"Demolitionist\"...|\n",
      "|KR_4260599131| 2061.984131|    8|       35|     2|   2053.580811|   \"{\"\"Blaster\"\": 1| \"\"Demolitionist\"...|\n",
      "|KR_4260599131| 2061.984131|    8|       34|     3|   1993.424316|   \"{\"\"Blaster\"\": 2|   \"\"Cybernetic\"\": 6|\n",
      "|KR_4260599131| 2061.984131|    9|       34|     4|   1984.681885|    \"{\"\"Chrono\"\": 1|   \"\"Cybernetic\"\": 1|\n",
      "|KR_4260599131| 2061.984131|    8|       33|     5|   1929.427612|\"{\"\"Cybernetic\"\": 1|     \"\"DarkStar\"\": 3|\n",
      "|KR_4260599131| 2061.984131|    8|       31|     6|   1808.769409|   \"{\"\"Blaster\"\": 1| \"\"Demolitionist\"...|\n",
      "|KR_4260599131| 2061.984131|    8|       30|     7|   1737.717407|    \"{\"\"Chrono\"\": 1|   \"\"Cybernetic\"\": 1|\n",
      "|KR_4260599131| 2061.984131|    8|       26|     8|   1503.494507|    \"{\"\"Chrono\"\": 1|   \"\"Cybernetic\"\": 1|\n",
      "|KR_4261384056| 2305.404785|    9|       37|     1|   2297.196289|  \"{\"\"DarkStar\"\": 1| \"\"Demolitionist\"...|\n",
      "|KR_4261384056| 2305.404785|    7|       37|     2|   2297.196289|  \"{\"\"DarkStar\"\": 3|    \"\"Protector\"\": 4|\n",
      "|KR_4261384056| 2305.404785|    7|       35|     3|   2206.466064|\"{\"\"Cybernetic\"\": 1|     \"\"DarkStar\"\": 2|\n",
      "|KR_4261384056| 2305.404785|    8|       35|     4|   2202.452881|    \"{\"\"Chrono\"\": 1|     \"\"DarkStar\"\": 3|\n",
      "+-------------+------------+-----+---------+------+--------------+-------------------+--------------------+\n",
      "only showing top 20 rows\n",
      "\n",
      "+-------------+------------+-----+---------+------+--------------+-------------------+--------------------+\n",
      "|       gameId|gameDuration|level|lastRound|Ranked|ingameDuration|        combination|            champion|\n",
      "+-------------+------------+-----+---------+------+--------------+-------------------+--------------------+\n",
      "|KR_4242528808| 2233.449951|    8|       37|     1|   2225.243408|  \"{\"\"DarkStar\"\": 2|    \"\"Protector\"\": 4|\n",
      "|KR_4242528808| 2233.449951|    9|       37|     2|   2225.243408|   \"{\"\"Blaster\"\": 2|       \"\"Chrono\"\": 1|\n",
      "|KR_4242528808| 2233.449951|    8|       35|     3|   2138.763428|   \"{\"\"Blaster\"\": 3|       \"\"Chrono\"\": 2|\n",
      "|KR_4242528808| 2233.449951|    8|       33|     4|   2003.865967|    \"{\"\"Chrono\"\": 2|   \"\"Cybernetic\"\": 2|\n",
      "|KR_4242528808| 2233.449951|    7|       31|     5|   1885.395386|   \"{\"\"Blaster\"\": 1|     \"\"DarkStar\"\": 1|\n",
      "|KR_4242528808| 2233.449951|    9|       31|     6|   1876.700928|   \"{\"\"Blaster\"\": 2| \"\"Demolitionist\"...|\n",
      "|KR_4242528808| 2233.449951|    8|       27|     7|   1639.057739|    \"{\"\"Chrono\"\": 2|   \"\"Cybernetic\"\": 1|\n",
      "|KR_4242528808| 2233.449951|    7|       26|     8|   1562.067993|   \"{\"\"Blaster\"\": 3|   \"\"Cybernetic\"\": 4|\n",
      "|KR_4242832362| 2229.640625|    8|       38|     1|   2221.398193|   \"{\"\"Blaster\"\": 2| \"\"Demolitionist\"...|\n",
      "|KR_4242832362| 2229.640625|    9|       38|     2|   2221.398193|   \"{\"\"Blaster\"\": 2|       \"\"Chrono\"\": 1|\n",
      "|KR_4242832362| 2229.640625|    8|       37|     3|   2154.725098|   \"{\"\"Blaster\"\": 2|    \"\"Mercenary\"\": 1|\n",
      "|KR_4242832362| 2229.640625|    9|       35|     4|    2064.85791|   \"{\"\"Blaster\"\": 2|       \"\"Chrono\"\": 1|\n",
      "|KR_4242832362| 2229.640625|    9|       31|     5|   1829.320679|    \"{\"\"Chrono\"\": 1|   \"\"Cybernetic\"\": 1|\n",
      "|KR_4242832362| 2229.640625|    8|       30|     6|   1750.491943|   \"{\"\"Blaster\"\": 4|   \"\"Cybernetic\"\": 1|\n",
      "|KR_4242832362| 2229.640625|    8|       27|     7|   1594.524536|   \"{\"\"Blaster\"\": 2|    \"\"Mercenary\"\": 1|\n",
      "|KR_4242832362| 2229.640625|    6|       24|     8|    1421.59436|  \"{\"\"DarkStar\"\": 1|    \"\"Protector\"\": 4|\n",
      "|KR_4245902754| 2207.383057|    8|       37|     1|   2198.837646|   \"{\"\"Blaster\"\": 2| \"\"Demolitionist\"...|\n",
      "|KR_4245902754| 2207.383057|    8|       37|     2|   2198.837646|\"{\"\"Cybernetic\"\": 1|     \"\"DarkStar\"\": 3|\n",
      "|KR_4245902754| 2207.383057|    8|       37|     3|   2193.752441|   \"{\"\"Blaster\"\": 2| \"\"Demolitionist\"...|\n",
      "|KR_4245902754| 2207.383057|    8|       35|     4|   2111.313477|    \"{\"\"Chrono\"\": 1|     \"\"DarkStar\"\": 3|\n",
      "+-------------+------------+-----+---------+------+--------------+-------------------+--------------------+\n",
      "only showing top 20 rows\n",
      "\n"
     ]
    },
    {
     "name": "stdout",
     "output_type": "stream",
     "text": [
      "+-------------+------------+-----+---------+------+--------------+-------------------+--------------------+\n",
      "|       gameId|gameDuration|level|lastRound|Ranked|ingameDuration|        combination|            champion|\n",
      "+-------------+------------+-----+---------+------+--------------+-------------------+--------------------+\n",
      "|KR_4291707834| 1963.905273|    6|       27|     5|   1390.165771|\"{\"\"Cybernetic\"\": 1| \"\"Demolitionist\"...|\n",
      "|KR_4291707834| 1963.905273|    8|       37|     3|   1891.282715|   \"{\"\"Blaster\"\": 1|       \"\"Chrono\"\": 1|\n",
      "|KR_4291707834| 1963.905273|    6|       25|     7|    1279.46106|   \"{\"\"Blaster\"\": 1|   \"\"Cybernetic\"\": 1|\n",
      "|KR_4291707834| 1963.905273|    7|       38|     2|   1955.608521|  \"{\"\"DarkStar\"\": 1|    \"\"Protector\"\": 2|\n",
      "|KR_4291707834| 1963.905273|    8|       38|     1|   1955.608521|   \"{\"\"Blaster\"\": 1|       \"\"Chrono\"\": 5|\n",
      "|KR_4291707834| 1963.905273|    5|       21|     8|   1067.354736|     \"{\"\"Rebel\"\": 1|  \"\"Blademaster\"\": 1|\n",
      "|KR_4291707834| 1963.905273|    6|       33|     4|   1698.420166| \"{\"\"Protector\"\": 1|       \"\"Mystic\"\": 1|\n",
      "|KR_4291707834| 1963.905273|    6|       25|     6|    1279.90332|   \"{\"\"Blaster\"\": 1|   \"\"Cybernetic\"\": 1|\n",
      "|KR_4291614366| 2082.444824|    7|       33|     4|   1891.497559|   \"{\"\"Blaster\"\": 1|     \"\"DarkStar\"\": 2|\n",
      "|KR_4291614366| 2082.444824|    8|       37|     2|   2074.254639|    \"{\"\"Chrono\"\": 4|     \"\"DarkStar\"\": 3|\n",
      "|KR_4291614366| 2082.444824|    7|       30|     5|   1703.537598|   \"{\"\"Blaster\"\": 1|       \"\"Chrono\"\": 1|\n",
      "|KR_4291614366| 2082.444824|    5|       18|     8|   997.0089111|    \"{\"\"Chrono\"\": 1|    \"\"Protector\"\": 1|\n",
      "|KR_4291614366| 2082.444824|    8|       28|     6|   1611.606079|   \"{\"\"Blaster\"\": 1|       \"\"Chrono\"\": 1|\n",
      "|KR_4291614366| 2082.444824|    9|       37|     1|   2074.254639|   \"{\"\"Blaster\"\": 2|       \"\"Chrono\"\": 2|\n",
      "|KR_4291614366| 2082.444824|    7|       34|     3|   1949.423706|    \"{\"\"Chrono\"\": 1|   \"\"Cybernetic\"\": 1|\n",
      "|KR_4291614366| 2082.444824|    5|       21|     7|   1177.617798|   \"{\"\"Blaster\"\": 1|     \"\"DarkStar\"\": 2|\n",
      "|KR_4291478512| 2242.488525|    7|       27|     7|   1525.740845|   \"{\"\"Blaster\"\": 3|       \"\"Chrono\"\": 1|\n",
      "|KR_4291478512| 2242.488525|    6|       27|     8|   1491.848999|    \"{\"\"Chrono\"\": 1|        \"\"Rebel\"\": 2|\n",
      "|KR_4291478512| 2242.488525|    8|       38|     3|   2131.432617|    \"{\"\"Chrono\"\": 1|     \"\"DarkStar\"\": 6|\n",
      "|KR_4291478512| 2242.488525|    6|       33|     5|   1861.303101|   \"{\"\"Blaster\"\": 1|   \"\"Cybernetic\"\": 1|\n",
      "+-------------+------------+-----+---------+------+--------------+-------------------+--------------------+\n",
      "only showing top 20 rows\n",
      "\n"
     ]
    }
   ],
   "source": [
    "df1.show()\n",
    "df2.show()\n",
    "df3.show()\n",
    "df4.show()\n",
    "df5.show()"
   ]
  },
  {
   "cell_type": "code",
   "execution_count": 5,
   "id": "78b455c4",
   "metadata": {
    "scrolled": true
   },
   "outputs": [
    {
     "name": "stderr",
     "output_type": "stream",
     "text": [
      "                                                                                \r"
     ]
    },
    {
     "name": "stdout",
     "output_type": "stream",
     "text": [
      "+-------+-------------+------------------+------------------+-----------------+------------------+------------------+--------------------+-------------------+\n",
      "|summary|       gameId|      gameDuration|             level|        lastRound|            Ranked|    ingameDuration|         combination|           champion|\n",
      "+-------+-------------+------------------+------------------+-----------------+------------------+------------------+--------------------+-------------------+\n",
      "|  count|        79999|             79999|             79999|            79999|             79999|             79999|               79999|              79999|\n",
      "|   mean|         null|2159.3728157595074| 7.892923661545769|33.75158439480494| 4.499981249765622|1885.0097235465043|                null|               null|\n",
      "| stddev|         null| 150.7232473421276|0.7644929118672823|4.764065529197064|2.2913103515732214|266.91765173026215|                null|               null|\n",
      "|    min|KR_4247538593|       38.88844681|                 1|                2|                 1|       38.88844681|\"{\"\"Blademaster\"\": 1| \"\"Blademaster\"\": 1|\n",
      "|    max|KR_4357265434|       2772.365479|                 9|               49|                 8|       2764.172363|                  {}|                 {}|\n",
      "+-------+-------------+------------------+------------------+-----------------+------------------+------------------+--------------------+-------------------+\n",
      "\n"
     ]
    },
    {
     "name": "stderr",
     "output_type": "stream",
     "text": [
      "                                                                                \r"
     ]
    },
    {
     "name": "stdout",
     "output_type": "stream",
     "text": [
      "+-------+-------------+------------------+------------------+-----------------+----------------+------------------+------------------+----------------+\n",
      "|summary|       gameId|      gameDuration|             level|        lastRound|          Ranked|    ingameDuration|       combination|        champion|\n",
      "+-------+-------------+------------------+------------------+-----------------+----------------+------------------+------------------+----------------+\n",
      "|  count|        80000|             80000|             80000|            80000|           80000|             80000|             80000|           80000|\n",
      "|   mean|         null|2156.6076191979505|          7.855675|           33.569|             4.5|1873.9154541819405|              null|            null|\n",
      "| stddev|         null| 137.2064978797223|0.7883863670740971|4.798054477242271|2.29130216816122| 267.0393253362198|              null|            null|\n",
      "|    min|KR_3965402291|       123.8556595|                 2|                3|               1|       121.7591171|\"{\"\"Alchemist\"\": 1| \"\"Assassin\"\": 1|\n",
      "|    max|KR_4402392671|       2732.243896|                 9|               51|               8|       2723.925781|                {}|              {}|\n",
      "+-------+-------------+------------------+------------------+-----------------+----------------+------------------+------------------+----------------+\n",
      "\n"
     ]
    },
    {
     "name": "stderr",
     "output_type": "stream",
     "text": [
      "                                                                                \r"
     ]
    },
    {
     "name": "stdout",
     "output_type": "stream",
     "text": [
      "+-------+-------------+------------------+------------------+-----------------+------------------+------------------+--------------------+-------------------+\n",
      "|summary|       gameId|      gameDuration|             level|        lastRound|            Ranked|    ingameDuration|         combination|           champion|\n",
      "+-------+-------------+------------------+------------------+-----------------+------------------+------------------+--------------------+-------------------+\n",
      "|  count|        80000|             80000|             80000|            80000|             80000|             80000|               80000|              80000|\n",
      "|   mean|         null|2154.3420347043893|          7.895225|          33.5867|           4.49965|1875.5377141319316|                null|               null|\n",
      "| stddev|         null|136.15483538719837|0.7588177626610797|4.790017736227484|2.2916076280242677|265.43442938756374|                null|               null|\n",
      "|    min|KR_4254769102|       125.2782974|                 3|                4|                 0|         123.15522|\"{\"\"Blademaster\"\": 1| \"\"Blademaster\"\": 1|\n",
      "|    max|KR_4365780453|       2775.935547|                 9|               49|                 8|       2767.582275|                  {}|                 {}|\n",
      "+-------+-------------+------------------+------------------+-----------------+------------------+------------------+--------------------+-------------------+\n",
      "\n"
     ]
    },
    {
     "name": "stderr",
     "output_type": "stream",
     "text": [
      "                                                                                \r"
     ]
    },
    {
     "name": "stdout",
     "output_type": "stream",
     "text": [
      "+-------+-------------+------------------+------------------+-----------------+-----------------+------------------+--------------------+-------------------+\n",
      "|summary|       gameId|      gameDuration|             level|        lastRound|           Ranked|    ingameDuration|         combination|           champion|\n",
      "+-------+-------------+------------------+------------------+-----------------+-----------------+------------------+--------------------+-------------------+\n",
      "|  count|        79999|             79999|             79999|            79999|            79999|             79999|               79999|              79999|\n",
      "|   mean|         null|2155.4974718968865| 7.841323016537706|33.53115663945799|4.499331241640521|1876.4673318726973|                null|               null|\n",
      "| stddev|         null| 133.8433517735869|0.7711593848349675|4.784822202970548|2.291910283821469| 267.1070520698545|                null|               null|\n",
      "|    min|KR_4242528808|       181.1088409|                 3|                5|                0|       178.9512329|\"{\"\"Blademaster\"\": 1| \"\"Blademaster\"\": 1|\n",
      "|    max|KR_4367610629|       2738.779053|                 9|               48|                8|       2730.512695|                  {}|                 {}|\n",
      "+-------+-------------+------------------+------------------+-----------------+-----------------+------------------+--------------------+-------------------+\n",
      "\n"
     ]
    },
    {
     "name": "stderr",
     "output_type": "stream",
     "text": [
      "\r",
      "[Stage 27:>                                                         (0 + 2) / 2]\r"
     ]
    },
    {
     "name": "stdout",
     "output_type": "stream",
     "text": [
      "+-------+-------------+-----------------+------------------+-----------------+------------------+------------------+------------------+----------------+\n",
      "|summary|       gameId|     gameDuration|             level|        lastRound|            Ranked|    ingameDuration|       combination|        champion|\n",
      "+-------+-------------+-----------------+------------------+-----------------+------------------+------------------+------------------+----------------+\n",
      "|  count|        80000|            80000|             80000|            80000|             80000|             80000|             80000|           80000|\n",
      "|   mean|         null|2168.427078831173|         7.7856375|       33.1931125|          4.496375| 1881.922943518933|              null|            null|\n",
      "| stddev|         null|156.2946954617307|0.8281876552319833|4.878633781673756|2.2942542697809647|279.21325665105053|              null|            null|\n",
      "|    min|KR_3890408252|              0.0|                 1|                0|                 0|               0.0|\"{\"\"Alchemist\"\": 1| \"\"Assassin\"\": 1|\n",
      "|    max|KR_4402801990|      2714.283691|                 9|               48|                 8|       2706.018555|                {}|              {}|\n",
      "+-------+-------------+-----------------+------------------+-----------------+------------------+------------------+------------------+----------------+\n",
      "\n"
     ]
    },
    {
     "name": "stderr",
     "output_type": "stream",
     "text": [
      "\r",
      "[Stage 27:=============================>                            (1 + 1) / 2]\r",
      "\r",
      "                                                                                \r"
     ]
    }
   ],
   "source": [
    "df1.describe().show()\n",
    "df2.describe().show()\n",
    "df3.describe().show()\n",
    "df4.describe().show()\n",
    "df5.describe().show()"
   ]
  },
  {
   "cell_type": "code",
   "execution_count": 6,
   "id": "01ce95bd",
   "metadata": {
    "scrolled": true
   },
   "outputs": [],
   "source": [
    "#To add new attribute 'segment'\n",
    "df1 = df1.withColumn('segment', lit('Challenger'))\n",
    "df2 = df2.withColumn('segment', lit('Diamond'))\n",
    "df3 = df3.withColumn('segment', lit('GrandMaster'))\n",
    "df4 = df4.withColumn('segment', lit('Master'))\n",
    "df5 = df5.withColumn('segment', lit('Platinum'))"
   ]
  },
  {
   "cell_type": "code",
   "execution_count": 7,
   "id": "5f77ea14",
   "metadata": {},
   "outputs": [
    {
     "name": "stdout",
     "output_type": "stream",
     "text": [
      "+-------------+------------+-----+---------+------+--------------+--------------------+--------------------+----------+\n",
      "|       gameId|gameDuration|level|lastRound|Ranked|ingameDuration|         combination|            champion|   segment|\n",
      "+-------------+------------+-----+---------+------+--------------+--------------------+--------------------+----------+\n",
      "|KR_4247538593| 2142.470703|    8|       35|     1|   2134.272217|   \"{\"\"DarkStar\"\": 2|    \"\"Protector\"\": 4|Challenger|\n",
      "|KR_4247538593| 2142.470703|    9|       35|     2|   2134.272217|    \"{\"\"Blaster\"\": 2|    \"\"Mercenary\"\": 1|Challenger|\n",
      "|KR_4247538593| 2142.470703|    8|       34|     3|   2073.459229| \"{\"\"Cybernetic\"\": 1|     \"\"DarkStar\"\": 3|Challenger|\n",
      "|KR_4247538593| 2142.470703|    8|       33|     4|   1998.146729|    \"{\"\"Blaster\"\": 1|   \"\"Cybernetic\"\": 1|Challenger|\n",
      "|KR_4247538593| 2142.470703|    9|       33|     5|   1986.443237|    \"{\"\"Blaster\"\": 2| \"\"Demolitionist\"...|Challenger|\n",
      "|KR_4247538593| 2142.470703|    8|       31|     6|   1878.470093|    \"{\"\"Blaster\"\": 2| \"\"Demolitionist\"...|Challenger|\n",
      "|KR_4247538593| 2142.470703|    9|       31|     7|   1866.661499|    \"{\"\"Blaster\"\": 4|       \"\"Chrono\"\": 2|Challenger|\n",
      "|KR_4247538593| 2142.470703|    8|       28|     8|   1694.417358|    \"{\"\"Blaster\"\": 4|       \"\"Chrono\"\": 2|Challenger|\n",
      "|KR_4247595409| 2386.106201|    9|       41|     1|   2377.768066|    \"{\"\"Blaster\"\": 2| \"\"Demolitionist\"...|Challenger|\n",
      "|KR_4247595409| 2386.106201|    9|       41|     2|   2377.768066|    \"{\"\"Blaster\"\": 4|       \"\"Chrono\"\": 2|Challenger|\n",
      "|KR_4247595409| 2386.106201|    9|       34|     3|    2026.86377|     \"{\"\"Chrono\"\": 1|     \"\"DarkStar\"\": 3|Challenger|\n",
      "|KR_4247595409| 2386.106201|    6|       31|     4|   1860.638428|   \"{\"\"DarkStar\"\": 2|  \"\"Infiltrator\"\": 1|Challenger|\n",
      "|KR_4247595409| 2386.106201|    8|       31|     5|   1852.539673|    \"{\"\"Blaster\"\": 1|     \"\"DarkStar\"\": 2|Challenger|\n",
      "|KR_4247595409| 2386.106201|    7|       30|     6|    1794.65625| \"{\"\"Cybernetic\"\": 1|     \"\"DarkStar\"\": 2|Challenger|\n",
      "|KR_4247595409| 2386.106201|    8|       28|     7|   1662.611694|    \"{\"\"Blaster\"\": 4|       \"\"Chrono\"\": 2|Challenger|\n",
      "|KR_4247595409| 2386.106201|    6|       24|     8|    1418.43457|   \"{\"\"DarkStar\"\": 1|    \"\"Protector\"\": 4|Challenger|\n",
      "|KR_4247613214| 2232.942627|    8|       38|     1|   2224.601563|    \"{\"\"Blaster\"\": 2| \"\"Demolitionist\"...|Challenger|\n",
      "|KR_4247613214| 2232.942627|    8|       38|     2|   2224.601563|    \"{\"\"Blaster\"\": 2| \"\"Demolitionist\"...|Challenger|\n",
      "|KR_4247613214| 2232.942627|    9|       37|     3|   2158.790283|\"{\"\"Demolitionist...|    \"\"Mercenary\"\": 1|Challenger|\n",
      "|KR_4247613214| 2232.942627|    8|       34|     4|    2007.17334|    \"{\"\"Blaster\"\": 4|       \"\"Chrono\"\": 2|Challenger|\n",
      "+-------------+------------+-----+---------+------+--------------+--------------------+--------------------+----------+\n",
      "only showing top 20 rows\n",
      "\n",
      "+-------------+------------+-----+---------+------+--------------+-----------------+--------------------+-------+\n",
      "|       gameId|gameDuration|level|lastRound|Ranked|ingameDuration|      combination|            champion|segment|\n",
      "+-------------+------------+-----+---------+------+--------------+-----------------+--------------------+-------+\n",
      "|KR_4357546733| 2326.065674|    8|       37|     4|   2089.551514|\"{\"\"DarkStar\"\": 2|    \"\"Protector\"\": 4|Diamond|\n",
      "|KR_4357546733| 2326.065674|    7|       26|     7|   1467.931519|  \"{\"\"Chrono\"\": 1|   \"\"Cybernetic\"\": 1|Diamond|\n",
      "|KR_4357546733| 2326.065674|    7|       26|     8|   1464.743164|\"{\"\"DarkStar\"\": 1|    \"\"Protector\"\": 1|Diamond|\n",
      "|KR_4357546733| 2326.065674|    8|       35|     5|   2008.209961|  \"{\"\"Chrono\"\": 2|   \"\"Cybernetic\"\": 1|Diamond|\n",
      "|KR_4357546733| 2326.065674|    7|       41|     2|   2317.777588|\"{\"\"DarkStar\"\": 1| \"\"Demolitionist\"...|Diamond|\n",
      "|KR_4357546733| 2326.065674|    8|       34|     6|   1932.544556| \"{\"\"Blaster\"\": 4|       \"\"Chrono\"\": 2|Diamond|\n",
      "|KR_4357546733| 2326.065674|    9|       41|     1|   2317.777588|  \"{\"\"Chrono\"\": 2|     \"\"DarkStar\"\": 1|Diamond|\n",
      "|KR_4357546733| 2326.065674|    9|       40|     3|   2249.602783| \"{\"\"Blaster\"\": 1|       \"\"Chrono\"\": 2|Diamond|\n",
      "|KR_4386549686| 2108.342285|    8|       30|     7|   1678.776367| \"{\"\"Blaster\"\": 1|       \"\"Chrono\"\": 1|Diamond|\n",
      "|KR_4386549686| 2108.342285|    8|       34|     4|   1893.583374| \"{\"\"Blaster\"\": 3|       \"\"Chrono\"\": 2|Diamond|\n",
      "|KR_4386549686| 2108.342285|    8|       34|     3|   1893.881348| \"{\"\"Blaster\"\": 2|       \"\"Chrono\"\": 4|Diamond|\n",
      "|KR_4386549686| 2108.342285|    8|       38|     2|   2100.056152|\"{\"\"DarkStar\"\": 1| \"\"Demolitionist\"...|Diamond|\n",
      "|KR_4386549686| 2108.342285|    9|       33|     5|   1839.648438| \"{\"\"Blaster\"\": 1|     \"\"DarkStar\"\": 1|Diamond|\n",
      "|KR_4386549686| 2108.342285|    7|       27|     8|    1523.08667|  \"{\"\"Chrono\"\": 2|   \"\"Cybernetic\"\": 1|Diamond|\n",
      "|KR_4386549686| 2108.342285|    8|       31|     6|   1738.415649|  \"{\"\"Chrono\"\": 3|   \"\"Cybernetic\"\": 2|Diamond|\n",
      "|KR_4386549686| 2108.342285|    9|       38|     1|   2100.056152| \"{\"\"Blaster\"\": 2| \"\"Demolitionist\"...|Diamond|\n",
      "|KR_4313467722| 2189.067627|    8|       34|     5|   1865.764893|\"{\"\"DarkStar\"\": 1|    \"\"Protector\"\": 1|Diamond|\n",
      "|KR_4313467722| 2189.067627|    6|       26|     8|   1438.372803|\"{\"\"DarkStar\"\": 1|    \"\"Protector\"\": 4|Diamond|\n",
      "|KR_4313467722| 2189.067627|    8|       33|     6|   1807.842407|\"{\"\"DarkStar\"\": 6|  \"\"Infiltrator\"\": 1|Diamond|\n",
      "|KR_4313467722| 2189.067627|    7|       30|     7|   1654.360962|\"{\"\"DarkStar\"\": 1|    \"\"Protector\"\": 1|Diamond|\n",
      "+-------------+------------+-----+---------+------+--------------+-----------------+--------------------+-------+\n",
      "only showing top 20 rows\n",
      "\n",
      "+-------------+------------+-----+---------+------+--------------+-------------------+--------------------+-----------+\n",
      "|       gameId|gameDuration|level|lastRound|Ranked|ingameDuration|        combination|            champion|    segment|\n",
      "+-------------+------------+-----+---------+------+--------------+-------------------+--------------------+-----------+\n",
      "|KR_4254769102| 2319.661377|    9|       38|     1|   2311.472168|   \"{\"\"Blaster\"\": 4|       \"\"Chrono\"\": 2|GrandMaster|\n",
      "|KR_4254769102| 2319.661377|    9|       38|     2|   2311.472168|   \"{\"\"Blaster\"\": 2|       \"\"Chrono\"\": 2|GrandMaster|\n",
      "|KR_4254769102| 2319.661377|    9|       37|     3|   2247.994873|  \"{\"\"DarkStar\"\": 2|    \"\"Protector\"\": 4|GrandMaster|\n",
      "|KR_4254769102| 2319.661377|    7|       33|     4|   1996.358643|  \"{\"\"DarkStar\"\": 2| \"\"Demolitionist\"...|GrandMaster|\n",
      "|KR_4254769102| 2319.661377|    8|       31|     5|   1871.789551|    \"{\"\"Chrono\"\": 1|   \"\"Cybernetic\"\": 1|GrandMaster|\n",
      "|KR_4254769102| 2319.661377|    9|       30|     6|   1804.010986|   \"{\"\"Blaster\"\": 2| \"\"Demolitionist\"...|GrandMaster|\n",
      "|KR_4254769102| 2319.661377|    7|       28|     7|   1707.270996|\"{\"\"Cybernetic\"\": 1|     \"\"DarkStar\"\": 2|GrandMaster|\n",
      "|KR_4254769102| 2319.661377|    8|       27|     8|   1629.130859|   \"{\"\"Blaster\"\": 2| \"\"Demolitionist\"...|GrandMaster|\n",
      "|KR_4260599131| 2061.984131|    8|       35|     1|   2053.580811|  \"{\"\"DarkStar\"\": 3| \"\"Demolitionist\"...|GrandMaster|\n",
      "|KR_4260599131| 2061.984131|    8|       35|     2|   2053.580811|   \"{\"\"Blaster\"\": 1| \"\"Demolitionist\"...|GrandMaster|\n",
      "|KR_4260599131| 2061.984131|    8|       34|     3|   1993.424316|   \"{\"\"Blaster\"\": 2|   \"\"Cybernetic\"\": 6|GrandMaster|\n",
      "|KR_4260599131| 2061.984131|    9|       34|     4|   1984.681885|    \"{\"\"Chrono\"\": 1|   \"\"Cybernetic\"\": 1|GrandMaster|\n",
      "|KR_4260599131| 2061.984131|    8|       33|     5|   1929.427612|\"{\"\"Cybernetic\"\": 1|     \"\"DarkStar\"\": 3|GrandMaster|\n",
      "|KR_4260599131| 2061.984131|    8|       31|     6|   1808.769409|   \"{\"\"Blaster\"\": 1| \"\"Demolitionist\"...|GrandMaster|\n",
      "|KR_4260599131| 2061.984131|    8|       30|     7|   1737.717407|    \"{\"\"Chrono\"\": 1|   \"\"Cybernetic\"\": 1|GrandMaster|\n",
      "|KR_4260599131| 2061.984131|    8|       26|     8|   1503.494507|    \"{\"\"Chrono\"\": 1|   \"\"Cybernetic\"\": 1|GrandMaster|\n",
      "|KR_4261384056| 2305.404785|    9|       37|     1|   2297.196289|  \"{\"\"DarkStar\"\": 1| \"\"Demolitionist\"...|GrandMaster|\n",
      "|KR_4261384056| 2305.404785|    7|       37|     2|   2297.196289|  \"{\"\"DarkStar\"\": 3|    \"\"Protector\"\": 4|GrandMaster|\n",
      "|KR_4261384056| 2305.404785|    7|       35|     3|   2206.466064|\"{\"\"Cybernetic\"\": 1|     \"\"DarkStar\"\": 2|GrandMaster|\n",
      "|KR_4261384056| 2305.404785|    8|       35|     4|   2202.452881|    \"{\"\"Chrono\"\": 1|     \"\"DarkStar\"\": 3|GrandMaster|\n",
      "+-------------+------------+-----+---------+------+--------------+-------------------+--------------------+-----------+\n",
      "only showing top 20 rows\n",
      "\n"
     ]
    },
    {
     "name": "stdout",
     "output_type": "stream",
     "text": [
      "+-------------+------------+-----+---------+------+--------------+-------------------+--------------------+-------+\n",
      "|       gameId|gameDuration|level|lastRound|Ranked|ingameDuration|        combination|            champion|segment|\n",
      "+-------------+------------+-----+---------+------+--------------+-------------------+--------------------+-------+\n",
      "|KR_4242528808| 2233.449951|    8|       37|     1|   2225.243408|  \"{\"\"DarkStar\"\": 2|    \"\"Protector\"\": 4| Master|\n",
      "|KR_4242528808| 2233.449951|    9|       37|     2|   2225.243408|   \"{\"\"Blaster\"\": 2|       \"\"Chrono\"\": 1| Master|\n",
      "|KR_4242528808| 2233.449951|    8|       35|     3|   2138.763428|   \"{\"\"Blaster\"\": 3|       \"\"Chrono\"\": 2| Master|\n",
      "|KR_4242528808| 2233.449951|    8|       33|     4|   2003.865967|    \"{\"\"Chrono\"\": 2|   \"\"Cybernetic\"\": 2| Master|\n",
      "|KR_4242528808| 2233.449951|    7|       31|     5|   1885.395386|   \"{\"\"Blaster\"\": 1|     \"\"DarkStar\"\": 1| Master|\n",
      "|KR_4242528808| 2233.449951|    9|       31|     6|   1876.700928|   \"{\"\"Blaster\"\": 2| \"\"Demolitionist\"...| Master|\n",
      "|KR_4242528808| 2233.449951|    8|       27|     7|   1639.057739|    \"{\"\"Chrono\"\": 2|   \"\"Cybernetic\"\": 1| Master|\n",
      "|KR_4242528808| 2233.449951|    7|       26|     8|   1562.067993|   \"{\"\"Blaster\"\": 3|   \"\"Cybernetic\"\": 4| Master|\n",
      "|KR_4242832362| 2229.640625|    8|       38|     1|   2221.398193|   \"{\"\"Blaster\"\": 2| \"\"Demolitionist\"...| Master|\n",
      "|KR_4242832362| 2229.640625|    9|       38|     2|   2221.398193|   \"{\"\"Blaster\"\": 2|       \"\"Chrono\"\": 1| Master|\n",
      "|KR_4242832362| 2229.640625|    8|       37|     3|   2154.725098|   \"{\"\"Blaster\"\": 2|    \"\"Mercenary\"\": 1| Master|\n",
      "|KR_4242832362| 2229.640625|    9|       35|     4|    2064.85791|   \"{\"\"Blaster\"\": 2|       \"\"Chrono\"\": 1| Master|\n",
      "|KR_4242832362| 2229.640625|    9|       31|     5|   1829.320679|    \"{\"\"Chrono\"\": 1|   \"\"Cybernetic\"\": 1| Master|\n",
      "|KR_4242832362| 2229.640625|    8|       30|     6|   1750.491943|   \"{\"\"Blaster\"\": 4|   \"\"Cybernetic\"\": 1| Master|\n",
      "|KR_4242832362| 2229.640625|    8|       27|     7|   1594.524536|   \"{\"\"Blaster\"\": 2|    \"\"Mercenary\"\": 1| Master|\n",
      "|KR_4242832362| 2229.640625|    6|       24|     8|    1421.59436|  \"{\"\"DarkStar\"\": 1|    \"\"Protector\"\": 4| Master|\n",
      "|KR_4245902754| 2207.383057|    8|       37|     1|   2198.837646|   \"{\"\"Blaster\"\": 2| \"\"Demolitionist\"...| Master|\n",
      "|KR_4245902754| 2207.383057|    8|       37|     2|   2198.837646|\"{\"\"Cybernetic\"\": 1|     \"\"DarkStar\"\": 3| Master|\n",
      "|KR_4245902754| 2207.383057|    8|       37|     3|   2193.752441|   \"{\"\"Blaster\"\": 2| \"\"Demolitionist\"...| Master|\n",
      "|KR_4245902754| 2207.383057|    8|       35|     4|   2111.313477|    \"{\"\"Chrono\"\": 1|     \"\"DarkStar\"\": 3| Master|\n",
      "+-------------+------------+-----+---------+------+--------------+-------------------+--------------------+-------+\n",
      "only showing top 20 rows\n",
      "\n",
      "+-------------+------------+-----+---------+------+--------------+-------------------+--------------------+--------+\n",
      "|       gameId|gameDuration|level|lastRound|Ranked|ingameDuration|        combination|            champion| segment|\n",
      "+-------------+------------+-----+---------+------+--------------+-------------------+--------------------+--------+\n",
      "|KR_4291707834| 1963.905273|    6|       27|     5|   1390.165771|\"{\"\"Cybernetic\"\": 1| \"\"Demolitionist\"...|Platinum|\n",
      "|KR_4291707834| 1963.905273|    8|       37|     3|   1891.282715|   \"{\"\"Blaster\"\": 1|       \"\"Chrono\"\": 1|Platinum|\n",
      "|KR_4291707834| 1963.905273|    6|       25|     7|    1279.46106|   \"{\"\"Blaster\"\": 1|   \"\"Cybernetic\"\": 1|Platinum|\n",
      "|KR_4291707834| 1963.905273|    7|       38|     2|   1955.608521|  \"{\"\"DarkStar\"\": 1|    \"\"Protector\"\": 2|Platinum|\n",
      "|KR_4291707834| 1963.905273|    8|       38|     1|   1955.608521|   \"{\"\"Blaster\"\": 1|       \"\"Chrono\"\": 5|Platinum|\n",
      "|KR_4291707834| 1963.905273|    5|       21|     8|   1067.354736|     \"{\"\"Rebel\"\": 1|  \"\"Blademaster\"\": 1|Platinum|\n",
      "|KR_4291707834| 1963.905273|    6|       33|     4|   1698.420166| \"{\"\"Protector\"\": 1|       \"\"Mystic\"\": 1|Platinum|\n",
      "|KR_4291707834| 1963.905273|    6|       25|     6|    1279.90332|   \"{\"\"Blaster\"\": 1|   \"\"Cybernetic\"\": 1|Platinum|\n",
      "|KR_4291614366| 2082.444824|    7|       33|     4|   1891.497559|   \"{\"\"Blaster\"\": 1|     \"\"DarkStar\"\": 2|Platinum|\n",
      "|KR_4291614366| 2082.444824|    8|       37|     2|   2074.254639|    \"{\"\"Chrono\"\": 4|     \"\"DarkStar\"\": 3|Platinum|\n",
      "|KR_4291614366| 2082.444824|    7|       30|     5|   1703.537598|   \"{\"\"Blaster\"\": 1|       \"\"Chrono\"\": 1|Platinum|\n",
      "|KR_4291614366| 2082.444824|    5|       18|     8|   997.0089111|    \"{\"\"Chrono\"\": 1|    \"\"Protector\"\": 1|Platinum|\n",
      "|KR_4291614366| 2082.444824|    8|       28|     6|   1611.606079|   \"{\"\"Blaster\"\": 1|       \"\"Chrono\"\": 1|Platinum|\n",
      "|KR_4291614366| 2082.444824|    9|       37|     1|   2074.254639|   \"{\"\"Blaster\"\": 2|       \"\"Chrono\"\": 2|Platinum|\n",
      "|KR_4291614366| 2082.444824|    7|       34|     3|   1949.423706|    \"{\"\"Chrono\"\": 1|   \"\"Cybernetic\"\": 1|Platinum|\n",
      "|KR_4291614366| 2082.444824|    5|       21|     7|   1177.617798|   \"{\"\"Blaster\"\": 1|     \"\"DarkStar\"\": 2|Platinum|\n",
      "|KR_4291478512| 2242.488525|    7|       27|     7|   1525.740845|   \"{\"\"Blaster\"\": 3|       \"\"Chrono\"\": 1|Platinum|\n",
      "|KR_4291478512| 2242.488525|    6|       27|     8|   1491.848999|    \"{\"\"Chrono\"\": 1|        \"\"Rebel\"\": 2|Platinum|\n",
      "|KR_4291478512| 2242.488525|    8|       38|     3|   2131.432617|    \"{\"\"Chrono\"\": 1|     \"\"DarkStar\"\": 6|Platinum|\n",
      "|KR_4291478512| 2242.488525|    6|       33|     5|   1861.303101|   \"{\"\"Blaster\"\": 1|   \"\"Cybernetic\"\": 1|Platinum|\n",
      "+-------------+------------+-----+---------+------+--------------+-------------------+--------------------+--------+\n",
      "only showing top 20 rows\n",
      "\n"
     ]
    }
   ],
   "source": [
    "df1.show()\n",
    "df2.show()\n",
    "df3.show()\n",
    "df4.show()\n",
    "df5.show()"
   ]
  },
  {
   "cell_type": "code",
   "execution_count": 8,
   "id": "c380273b",
   "metadata": {},
   "outputs": [],
   "source": [
    "#To combine five tables\n",
    "combined_df = df1.unionAll(df2)\n",
    "combined_df = combined_df.unionAll(df3)\n",
    "combined_df = combined_df.unionAll(df4)\n",
    "combined_df = combined_df.unionAll(df5)"
   ]
  },
  {
   "cell_type": "code",
   "execution_count": 9,
   "id": "146e269a",
   "metadata": {},
   "outputs": [
    {
     "name": "stderr",
     "output_type": "stream",
     "text": [
      "[Stage 35:=============================================>           (8 + 2) / 10]\r"
     ]
    },
    {
     "name": "stdout",
     "output_type": "stream",
     "text": [
      "+-------+-------------+------------------+------------------+-----------------+-----------------+-----------------+------------------+----------------+----------+\n",
      "|summary|       gameId|      gameDuration|             level|        lastRound|           Ranked|   ingameDuration|       combination|        champion|   segment|\n",
      "+-------+-------------+------------------+------------------+-----------------+-----------------+-----------------+------------------+----------------+----------+\n",
      "|  count|       399998|            399998|            399998|           399998|           399998|           399998|            399998|          399998|    399998|\n",
      "|   mean|         null| 2158.849411149318| 7.854156770783854|33.52631013155066|4.499067495337477|1878.570622610876|              null|            null|      null|\n",
      "| stddev|         null|143.21375509037216|0.7836338203892028|4.806737439872818|2.292066160082213|269.2215033988559|              null|            null|      null|\n",
      "|    min|KR_3890408252|               0.0|                 1|                0|                0|              0.0|\"{\"\"Alchemist\"\": 1| \"\"Assassin\"\": 1|Challenger|\n",
      "|    max|KR_4402801990|       2775.935547|                 9|               51|                8|      2767.582275|                {}|              {}|  Platinum|\n",
      "+-------+-------------+------------------+------------------+-----------------+-----------------+-----------------+------------------+----------------+----------+\n",
      "\n"
     ]
    },
    {
     "name": "stderr",
     "output_type": "stream",
     "text": [
      "\r",
      "                                                                                \r"
     ]
    }
   ],
   "source": [
    "combined_df.describe().show()"
   ]
  },
  {
   "cell_type": "code",
   "execution_count": 10,
   "id": "2bb1f8a0",
   "metadata": {},
   "outputs": [
    {
     "name": "stderr",
     "output_type": "stream",
     "text": [
      "                                                                                \r"
     ]
    },
    {
     "data": {
      "image/png": "[encoded data removed]",
      "text/plain": [
       "<Figure size 720x432 with 1 Axes>"
      ]
     },
     "metadata": {
      "needs_background": "light"
     },
     "output_type": "display_data"
    }
   ],
   "source": [
    "#To create the histogram of ‘gameDuration’\n",
    "game_durations = combined_df.select('gameDuration').rdd.flatMap(lambda x: x).collect()\n",
    "plt.figure(figsize=(10, 6))\n",
    "plt.hist(game_durations, bins=50, alpha=0.75, color='blue')\n",
    "plt.title('Histogram of Game Duration')\n",
    "plt.xlabel('Game Duration (seconds)')\n",
    "plt.ylabel('Frequency')\n",
    "plt.show()"
   ]
  },
  {
   "cell_type": "code",
   "execution_count": 11,
   "id": "ed3be500",
   "metadata": {},
   "outputs": [],
   "source": [
    "# To replave the missing value of 'gameDuration' with 0\n",
    "combined_df = combined_df.fillna({'gameDuration': 0})\n",
    "\n",
    "# To filter out 'gameDuration' greater than or equal to 1200\n",
    "combined_df = combined_df.filter(col('gameDuration') > 1200)"
   ]
  },
  {
   "cell_type": "code",
   "execution_count": 12,
   "id": "b9c97aeb",
   "metadata": {},
   "outputs": [
    {
     "name": "stderr",
     "output_type": "stream",
     "text": [
      "[Stage 39:===================================================>     (9 + 1) / 10]\r"
     ]
    },
    {
     "name": "stdout",
     "output_type": "stream",
     "text": [
      "+-------+-------------+-----------------+------------------+-----------------+-----------------+----------------+------------------+----------------+----------+\n",
      "|summary|       gameId|     gameDuration|             level|        lastRound|           Ranked|  ingameDuration|       combination|        champion|   segment|\n",
      "+-------+-------------+-----------------+------------------+-----------------+-----------------+----------------+------------------+----------------+----------+\n",
      "|  count|       399606|           399606|            399606|           399606|           399606|          399606|            399606|          399606|    399606|\n",
      "|   mean|         null|2160.405670060339|7.8578599920922105| 33.5488781449728|4.499924926052161|1879.91352491335|              null|            null|      null|\n",
      "| stddev|         null|133.9105814435457|0.7735742082823188|4.751337711645592|2.291364979312444|265.740385548894|              null|            null|      null|\n",
      "|    min|KR_3965402291|      1210.759399|                 4|               10|                0|     600.9366455|\"{\"\"Alchemist\"\": 1| \"\"Assassin\"\": 1|Challenger|\n",
      "|    max|KR_4402801990|      2775.935547|                 9|               51|                8|     2767.582275|                {}|              {}|  Platinum|\n",
      "+-------+-------------+-----------------+------------------+-----------------+-----------------+----------------+------------------+----------------+----------+\n",
      "\n"
     ]
    },
    {
     "name": "stderr",
     "output_type": "stream",
     "text": [
      "\r",
      "                                                                                \r"
     ]
    }
   ],
   "source": [
    "combined_df.describe().show()"
   ]
  },
  {
   "cell_type": "code",
   "execution_count": 13,
   "id": "4fe1dfef",
   "metadata": {},
   "outputs": [
    {
     "name": "stderr",
     "output_type": "stream",
     "text": [
      "                                                                                \r"
     ]
    },
    {
     "data": {
      "image/png": "[encoded data removed]",
      "text/plain": [
       "<Figure size 720x432 with 1 Axes>"
      ]
     },
     "metadata": {
      "needs_background": "light"
     },
     "output_type": "display_data"
    }
   ],
   "source": [
    "#To create the histogram of ‘gameDuration’ after cleaning\n",
    "game_durations_filtered = combined_df.select('gameDuration').rdd.flatMap(lambda x: x).collect()\n",
    "plt.figure(figsize=(10, 6))\n",
    "plt.hist(game_durations_filtered, bins=50, alpha=0.75, color='blue')\n",
    "plt.title('Histogram of Game Duration After Cleaning')\n",
    "plt.xlabel('Game Duration (seconds)')\n",
    "plt.ylabel('Frequency')\n",
    "plt.show()"
   ]
  },
  {
   "cell_type": "code",
   "execution_count": 21,
   "id": "a3ba3e10",
   "metadata": {},
   "outputs": [
    {
     "name": "stdout",
     "output_type": "stream",
     "text": [
      "+------------------+\n",
      "|parsed_combination|\n",
      "+------------------+\n",
      "|null              |\n",
      "|null              |\n",
      "|null              |\n",
      "|null              |\n",
      "|null              |\n",
      "|null              |\n",
      "|null              |\n",
      "|null              |\n",
      "|null              |\n",
      "|null              |\n",
      "|null              |\n",
      "|null              |\n",
      "|null              |\n",
      "|null              |\n",
      "|null              |\n",
      "|null              |\n",
      "|null              |\n",
      "|null              |\n",
      "|null              |\n",
      "|null              |\n",
      "+------------------+\n",
      "only showing top 20 rows\n",
      "\n"
     ]
    }
   ],
   "source": [
    "from pyspark.sql.functions import col, from_json, to_json, size\n",
    "from pyspark.sql.types import MapType, StringType, IntegerType\n",
    "\n",
    "# 定义 JSON 的 schema\n",
    "schema = MapType(StringType(), IntegerType())\n",
    "\n",
    "# 使用 from_json 解析 JSON 字符串\n",
    "combined_df = combined_df.withColumn('parsed_combination', from_json(col('combination'), schema))\n",
    "combined_df.select('parsed_combination').show(truncate=False)"
   ]
  },
  {
   "cell_type": "code",
   "execution_count": 22,
   "id": "1539ae5c",
   "metadata": {},
   "outputs": [
    {
     "name": "stdout",
     "output_type": "stream",
     "text": [
      "root\n",
      " |-- gameId: string (nullable = true)\n",
      " |-- gameDuration: double (nullable = false)\n",
      " |-- level: integer (nullable = true)\n",
      " |-- lastRound: integer (nullable = true)\n",
      " |-- Ranked: integer (nullable = true)\n",
      " |-- ingameDuration: double (nullable = true)\n",
      " |-- combination: string (nullable = true)\n",
      " |-- champion: string (nullable = true)\n",
      " |-- segment: string (nullable = false)\n",
      " |-- parsed_combination: map (nullable = true)\n",
      " |    |-- key: string\n",
      " |    |-- value: integer (valueContainsNull = true)\n",
      "\n"
     ]
    }
   ],
   "source": [
    "combined_df.printSchema()"
   ]
  },
  {
   "cell_type": "code",
   "execution_count": null,
   "id": "44634293",
   "metadata": {},
   "outputs": [],
   "source": []
  }
 ],
 "metadata": {
  "kernelspec": {
   "display_name": "Python 3 (ipykernel)",
   "language": "python",
   "name": "python3"
  },
  "language_info": {
   "codemirror_mode": {
    "name": "ipython",
    "version": 3
   },
   "file_extension": ".py",
   "mimetype": "text/x-python",
   "name": "python",
   "nbconvert_exporter": "python",
   "pygments_lexer": "ipython3",
   "version": "3.10.4"
  }
 },
 "nbformat": 4,
 "nbformat_minor": 5
}
