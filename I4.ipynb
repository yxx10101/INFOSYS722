{
 "cells": [
  {
   "cell_type": "code",
   "execution_count": 1,
   "id": "462f9b7a",
   "metadata": {},
   "outputs": [
    {
     "name": "stderr",
     "output_type": "stream",
     "text": [
      "WARNING: An illegal reflective access operation has occurred\n",
      "WARNING: Illegal reflective access by org.apache.spark.unsafe.Platform (file:/home/ubuntu/spark-3.2.1-bin-hadoop2.7/jars/spark-unsafe_2.12-3.2.1.jar) to constructor java.nio.DirectByteBuffer(long,int)\n",
      "WARNING: Please consider reporting this to the maintainers of org.apache.spark.unsafe.Platform\n",
      "WARNING: Use --illegal-access=warn to enable warnings of further illegal reflective access operations\n",
      "WARNING: All illegal access operations will be denied in a future release\n",
      "Using Spark's default log4j profile: org/apache/spark/log4j-defaults.properties\n",
      "Setting default log level to \"WARN\".\n",
      "To adjust logging level use sc.setLogLevel(newLevel). For SparkR, use setLogLevel(newLevel).\n",
      "24/05/22 16:21:53 WARN NativeCodeLoader: Unable to load native-hadoop library for your platform... using builtin-java classes where applicable\n"
     ]
    }
   ],
   "source": [
    "import findspark\n",
    "findspark.init('/home/ubuntu/spark-3.2.1-bin-hadoop2.7')\n",
    "import pyspark\n",
    "from pyspark.sql import SparkSession\n",
    "spark = SparkSession.builder \\\n",
    "    .appName(\"722I4\") \\\n",
    "    .config(\"spark.executor.memory\", \"16g\") \\\n",
    "    .config(\"spark.driver.memory\", \"16g\") \\\n",
    "    .config(\"spark.memory.offHeap.enabled\", True) \\\n",
    "    .config(\"spark.memory.offHeap.size\", \"8g\") \\\n",
    "    .config(\"spark.sql.shuffle.partitions\", \"200\") \\\n",
    "    .config(\"spark.driver.maxResultSize\", \"4g\") \\\n",
    "    .getOrCreate()"
   ]
  },
  {
   "cell_type": "code",
   "execution_count": 2,
   "id": "65c0a5e9",
   "metadata": {},
   "outputs": [],
   "source": [
    "from pyspark.sql.functions import lit, col, from_json, to_json, size, array_contains, map_keys, count, when, isnan,explode, expr, skewness, pow\n",
    "from pyspark.ml.classification import RandomForestClassifier, LinearSVC\n",
    "from pyspark.ml.tuning import ParamGridBuilder, CrossValidator\n",
    "from pyspark.ml.evaluation import BinaryClassificationEvaluator\n",
    "from pyspark.ml.feature import VectorAssembler,StandardScaler, MinMaxScaler\n",
    "from pyspark.ml.evaluation import MulticlassClassificationEvaluator\n",
    "from pyspark.mllib.evaluation import MulticlassMetrics\n",
    "from pyspark.ml import Pipeline\n",
    "import matplotlib.pyplot as plt\n",
    "import numpy as np\n",
    "import seaborn as sns\n",
    "from pyspark.sql.types import MapType, StringType, IntegerType"
   ]
  },
  {
   "cell_type": "code",
   "execution_count": 3,
   "id": "0a61e9ee",
   "metadata": {
    "scrolled": true
   },
   "outputs": [
    {
     "name": "stderr",
     "output_type": "stream",
     "text": [
      "                                                                                \r"
     ]
    }
   ],
   "source": [
    "#To read the datasets\n",
    "df1 = spark.read.csv(\n",
    "    'Dataset/TFT_Challenger_MatchData.csv',\n",
    "    header=True,\n",
    "    inferSchema=True,\n",
    "    multiLine=True, \n",
    "    quote='\"',  \n",
    "    escape='\"'  \n",
    ")\n",
    "\n",
    "df2 = spark.read.csv(\n",
    "    'Dataset/TFT_Diamond_MatchData.csv',\n",
    "    header=True,\n",
    "    inferSchema=True,\n",
    "    multiLine=True,\n",
    "    quote='\"', \n",
    "    escape='\"'\n",
    ")\n",
    "\n",
    "df3 = spark.read.csv(\n",
    "    'Dataset/TFT_GrandMaster_MatchData.csv',\n",
    "    header=True,\n",
    "    inferSchema=True,\n",
    "    multiLine=True,\n",
    "    quote='\"',\n",
    "    escape='\"'\n",
    ")\n",
    "\n",
    "df4 = spark.read.csv(\n",
    "    'Dataset/TFT_Master_MatchData.csv',\n",
    "    header=True,\n",
    "    inferSchema=True,\n",
    "    multiLine=True,\n",
    "    quote='\"',\n",
    "    escape='\"'\n",
    ")\n",
    "\n",
    "df5 = spark.read.csv(\n",
    "    'Dataset/TFT_Platinum_MatchData .csv',\n",
    "    header=True,\n",
    "    inferSchema=True,\n",
    "    multiLine=True,\n",
    "    quote='\"',\n",
    "    escape='\"'\n",
    ")"
   ]
  },
  {
   "cell_type": "code",
   "execution_count": 4,
   "id": "3686c74e",
   "metadata": {},
   "outputs": [
    {
     "name": "stdout",
     "output_type": "stream",
     "text": [
      "root\n",
      " |-- gameId: string (nullable = true)\n",
      " |-- gameDuration: double (nullable = true)\n",
      " |-- level: integer (nullable = true)\n",
      " |-- lastRound: integer (nullable = true)\n",
      " |-- Ranked: integer (nullable = true)\n",
      " |-- ingameDuration: double (nullable = true)\n",
      " |-- combination: string (nullable = true)\n",
      " |-- champion: string (nullable = true)\n",
      "\n",
      "root\n",
      " |-- gameId: string (nullable = true)\n",
      " |-- gameDuration: double (nullable = true)\n",
      " |-- level: integer (nullable = true)\n",
      " |-- lastRound: integer (nullable = true)\n",
      " |-- Ranked: integer (nullable = true)\n",
      " |-- ingameDuration: double (nullable = true)\n",
      " |-- combination: string (nullable = true)\n",
      " |-- champion: string (nullable = true)\n",
      "\n",
      "root\n",
      " |-- gameId: string (nullable = true)\n",
      " |-- gameDuration: double (nullable = true)\n",
      " |-- level: integer (nullable = true)\n",
      " |-- lastRound: integer (nullable = true)\n",
      " |-- Ranked: integer (nullable = true)\n",
      " |-- ingameDuration: double (nullable = true)\n",
      " |-- combination: string (nullable = true)\n",
      " |-- champion: string (nullable = true)\n",
      "\n",
      "root\n",
      " |-- gameId: string (nullable = true)\n",
      " |-- gameDuration: double (nullable = true)\n",
      " |-- level: integer (nullable = true)\n",
      " |-- lastRound: integer (nullable = true)\n",
      " |-- Ranked: integer (nullable = true)\n",
      " |-- ingameDuration: double (nullable = true)\n",
      " |-- combination: string (nullable = true)\n",
      " |-- champion: string (nullable = true)\n",
      "\n",
      "root\n",
      " |-- gameId: string (nullable = true)\n",
      " |-- gameDuration: double (nullable = true)\n",
      " |-- level: integer (nullable = true)\n",
      " |-- lastRound: integer (nullable = true)\n",
      " |-- Ranked: integer (nullable = true)\n",
      " |-- ingameDuration: double (nullable = true)\n",
      " |-- combination: string (nullable = true)\n",
      " |-- champion: string (nullable = true)\n",
      "\n"
     ]
    }
   ],
   "source": [
    "df1.printSchema()\n",
    "df2.printSchema()\n",
    "df3.printSchema()\n",
    "df4.printSchema()\n",
    "df5.printSchema()"
   ]
  },
  {
   "cell_type": "code",
   "execution_count": 5,
   "id": "b6841964",
   "metadata": {
    "scrolled": true
   },
   "outputs": [
    {
     "name": "stdout",
     "output_type": "stream",
     "text": [
      "+-------------+------------+-----+---------+------+--------------+--------------------+--------------------+\n",
      "|       gameId|gameDuration|level|lastRound|Ranked|ingameDuration|         combination|            champion|\n",
      "+-------------+------------+-----+---------+------+--------------+--------------------+--------------------+\n",
      "|KR_4247538593| 2142.470703|    8|       35|     1|   2134.272217|{\"DarkStar\": 2, \"...|{\"JarvanIV\": {\"it...|\n",
      "|KR_4247538593| 2142.470703|    9|       35|     2|   2134.272217|{\"Blaster\": 2, \"M...|{\"Malphite\": {\"it...|\n",
      "|KR_4247538593| 2142.470703|    8|       34|     3|   2073.459229|{\"Cybernetic\": 1,...|{\"KaiSa\": {\"items...|\n",
      "|KR_4247538593| 2142.470703|    8|       33|     4|   1998.146729|{\"Blaster\": 1, \"C...|{\"KaiSa\": {\"items...|\n",
      "|KR_4247538593| 2142.470703|    9|       33|     5|   1986.443237|{\"Blaster\": 2, \"D...|{\"Ziggs\": {\"items...|\n",
      "|KR_4247538593| 2142.470703|    8|       31|     6|   1878.470093|{\"Blaster\": 2, \"D...|{\"Ziggs\": {\"items...|\n",
      "|KR_4247538593| 2142.470703|    9|       31|     7|   1866.661499|{\"Blaster\": 4, \"C...|{\"Malphite\": {\"it...|\n",
      "|KR_4247538593| 2142.470703|    8|       28|     8|   1694.417358|{\"Blaster\": 4, \"C...|{\"Malphite\": {\"it...|\n",
      "|KR_4247595409| 2386.106201|    9|       41|     1|   2377.768066|{\"Blaster\": 2, \"D...|{\"Malphite\": {\"it...|\n",
      "|KR_4247595409| 2386.106201|    9|       41|     2|   2377.768066|{\"Blaster\": 4, \"C...|{\"Malphite\": {\"it...|\n",
      "|KR_4247595409| 2386.106201|    9|       34|     3|    2026.86377|{\"Chrono\": 1, \"Da...|{\"Poppy\": {\"items...|\n",
      "|KR_4247595409| 2386.106201|    6|       31|     4|   1860.638428|{\"DarkStar\": 2, \"...|{\"JarvanIV\": {\"it...|\n",
      "|KR_4247595409| 2386.106201|    8|       31|     5|   1852.539673|{\"Blaster\": 1, \"D...|{\"KhaZix\": {\"item...|\n",
      "|KR_4247595409| 2386.106201|    7|       30|     6|    1794.65625|{\"Cybernetic\": 1,...|{\"KaiSa\": {\"items...|\n",
      "|KR_4247595409| 2386.106201|    8|       28|     7|   1662.611694|{\"Blaster\": 4, \"C...|{\"Malphite\": {\"it...|\n",
      "|KR_4247595409| 2386.106201|    6|       24|     8|    1418.43457|{\"DarkStar\": 1, \"...|{\"JarvanIV\": {\"it...|\n",
      "|KR_4247613214| 2232.942627|    8|       38|     1|   2224.601563|{\"Blaster\": 2, \"D...|{\"Ziggs\": {\"items...|\n",
      "|KR_4247613214| 2232.942627|    8|       38|     2|   2224.601563|{\"Blaster\": 2, \"D...|{\"Malphite\": {\"it...|\n",
      "|KR_4247613214| 2232.942627|    9|       37|     3|   2158.790283|{\"Demolitionist\":...|{\"Ziggs\": {\"items...|\n",
      "|KR_4247613214| 2232.942627|    8|       34|     4|    2007.17334|{\"Blaster\": 4, \"C...|{\"Malphite\": {\"it...|\n",
      "+-------------+------------+-----+---------+------+--------------+--------------------+--------------------+\n",
      "only showing top 20 rows\n",
      "\n",
      "+-------------+------------+-----+---------+------+--------------+--------------------+--------------------+\n",
      "|       gameId|gameDuration|level|lastRound|Ranked|ingameDuration|         combination|            champion|\n",
      "+-------------+------------+-----+---------+------+--------------+--------------------+--------------------+\n",
      "|KR_4357546733| 2326.065674|    8|       37|     4|   2089.551514|{\"DarkStar\": 2, \"...|{\"JarvanIV\": {\"it...|\n",
      "|KR_4357546733| 2326.065674|    7|       26|     7|   1467.931519|{\"Chrono\": 1, \"Cy...|{\"Malphite\": {\"it...|\n",
      "|KR_4357546733| 2326.065674|    7|       26|     8|   1464.743164|{\"DarkStar\": 1, \"...|{\"Poppy\": {\"items...|\n",
      "|KR_4357546733| 2326.065674|    8|       35|     5|   2008.209961|{\"Chrono\": 2, \"Cy...|{\"TwistedFate\": {...|\n",
      "|KR_4357546733| 2326.065674|    7|       41|     2|   2317.777588|{\"DarkStar\": 1, \"...|{\"KhaZix\": {\"item...|\n",
      "|KR_4357546733| 2326.065674|    8|       34|     6|   1932.544556|{\"Blaster\": 4, \"C...|{\"Blitzcrank\": {\"...|\n",
      "|KR_4357546733| 2326.065674|    9|       41|     1|   2317.777588|{\"Chrono\": 2, \"Da...|{\"TwistedFate\": {...|\n",
      "|KR_4357546733| 2326.065674|    9|       40|     3|   2249.602783|{\"Blaster\": 1, \"C...|{\"Caitlyn\": {\"ite...|\n",
      "|KR_4386549686| 2108.342285|    8|       30|     7|   1678.776367|{\"Blaster\": 1, \"C...|{\"Graves\": {\"item...|\n",
      "|KR_4386549686| 2108.342285|    8|       34|     4|   1893.583374|{\"Blaster\": 3, \"C...|{\"Malphite\": {\"it...|\n",
      "|KR_4386549686| 2108.342285|    8|       34|     3|   1893.881348|{\"Blaster\": 2, \"C...|{\"Shen\": {\"items\"...|\n",
      "|KR_4386549686| 2108.342285|    8|       38|     2|   2100.056152|{\"DarkStar\": 1, \"...|{\"KhaZix\": {\"item...|\n",
      "|KR_4386549686| 2108.342285|    9|       33|     5|   1839.648438|{\"Blaster\": 1, \"D...|{\"Graves\": {\"item...|\n",
      "|KR_4386549686| 2108.342285|    7|       27|     8|    1523.08667|{\"Chrono\": 2, \"Cy...|{\"TwistedFate\": {...|\n",
      "|KR_4386549686| 2108.342285|    8|       31|     6|   1738.415649|{\"Chrono\": 3, \"Cy...|{\"Fiora\": {\"items...|\n",
      "|KR_4386549686| 2108.342285|    9|       38|     1|   2100.056152|{\"Blaster\": 2, \"D...|{\"Ziggs\": {\"items...|\n",
      "|KR_4313467722| 2189.067627|    8|       34|     5|   1865.764893|{\"DarkStar\": 1, \"...|{\"Poppy\": {\"items...|\n",
      "|KR_4313467722| 2189.067627|    6|       26|     8|   1438.372803|{\"DarkStar\": 1, \"...|{\"JarvanIV\": {\"it...|\n",
      "|KR_4313467722| 2189.067627|    8|       33|     6|   1807.842407|{\"DarkStar\": 6, \"...|{\"Mordekaiser\": {...|\n",
      "|KR_4313467722| 2189.067627|    7|       30|     7|   1654.360962|{\"DarkStar\": 1, \"...|{\"Poppy\": {\"items...|\n",
      "+-------------+------------+-----+---------+------+--------------+--------------------+--------------------+\n",
      "only showing top 20 rows\n",
      "\n",
      "+-------------+------------+-----+---------+------+--------------+--------------------+--------------------+\n",
      "|       gameId|gameDuration|level|lastRound|Ranked|ingameDuration|         combination|            champion|\n",
      "+-------------+------------+-----+---------+------+--------------+--------------------+--------------------+\n",
      "|KR_4254769102| 2319.661377|    9|       38|     1|   2311.472168|{\"Blaster\": 4, \"C...|{\"Malphite\": {\"it...|\n",
      "|KR_4254769102| 2319.661377|    9|       38|     2|   2311.472168|{\"Blaster\": 2, \"C...|{\"Fiora\": {\"items...|\n",
      "|KR_4254769102| 2319.661377|    9|       37|     3|   2247.994873|{\"DarkStar\": 2, \"...|{\"JarvanIV\": {\"it...|\n",
      "|KR_4254769102| 2319.661377|    7|       33|     4|   1996.358643|{\"DarkStar\": 2, \"...|{\"KhaZix\": {\"item...|\n",
      "|KR_4254769102| 2319.661377|    8|       31|     5|   1871.789551|{\"Chrono\": 1, \"Cy...|{\"Leona\": {\"items...|\n",
      "|KR_4254769102| 2319.661377|    9|       30|     6|   1804.010986|{\"Blaster\": 2, \"D...|{\"Malphite\": {\"it...|\n",
      "|KR_4254769102| 2319.661377|    7|       28|     7|   1707.270996|{\"Cybernetic\": 1,...|{\"KaiSa\": {\"items...|\n",
      "|KR_4254769102| 2319.661377|    8|       27|     8|   1629.130859|{\"Blaster\": 2, \"D...|{\"Ziggs\": {\"items...|\n",
      "|KR_4260599131| 2061.984131|    8|       35|     1|   2053.580811|{\"DarkStar\": 3, \"...|{\"KhaZix\": {\"item...|\n",
      "|KR_4260599131| 2061.984131|    8|       35|     2|   2053.580811|{\"Blaster\": 1, \"D...|{\"Ziggs\": {\"items...|\n",
      "|KR_4260599131| 2061.984131|    8|       34|     3|   1993.424316|{\"Blaster\": 2, \"C...|{\"Fiora\": {\"items...|\n",
      "|KR_4260599131| 2061.984131|    9|       34|     4|   1984.681885|{\"Chrono\": 1, \"Cy...|{\"Leona\": {\"items...|\n",
      "|KR_4260599131| 2061.984131|    8|       33|     5|   1929.427612|{\"Cybernetic\": 1,...|{\"KaiSa\": {\"items...|\n",
      "|KR_4260599131| 2061.984131|    8|       31|     6|   1808.769409|{\"Blaster\": 1, \"D...|{\"Ziggs\": {\"items...|\n",
      "|KR_4260599131| 2061.984131|    8|       30|     7|   1737.717407|{\"Chrono\": 1, \"Cy...|{\"Leona\": {\"items...|\n",
      "|KR_4260599131| 2061.984131|    8|       26|     8|   1503.494507|{\"Chrono\": 1, \"Cy...|{\"Leona\": {\"items...|\n",
      "|KR_4261384056| 2305.404785|    9|       37|     1|   2297.196289|{\"DarkStar\": 1, \"...|{\"Zoe\": {\"items\":...|\n",
      "|KR_4261384056| 2305.404785|    7|       37|     2|   2297.196289|{\"DarkStar\": 3, \"...|{\"JarvanIV\": {\"it...|\n",
      "|KR_4261384056| 2305.404785|    7|       35|     3|   2206.466064|{\"Cybernetic\": 1,...|{\"KaiSa\": {\"items...|\n",
      "|KR_4261384056| 2305.404785|    8|       35|     4|   2202.452881|{\"Chrono\": 1, \"Da...|{\"Poppy\": {\"items...|\n",
      "+-------------+------------+-----+---------+------+--------------+--------------------+--------------------+\n",
      "only showing top 20 rows\n",
      "\n",
      "+-------------+------------+-----+---------+------+--------------+--------------------+--------------------+\n",
      "|       gameId|gameDuration|level|lastRound|Ranked|ingameDuration|         combination|            champion|\n",
      "+-------------+------------+-----+---------+------+--------------+--------------------+--------------------+\n",
      "|KR_4242528808| 2233.449951|    8|       37|     1|   2225.243408|{\"DarkStar\": 2, \"...|{\"JarvanIV\": {\"it...|\n",
      "|KR_4242528808| 2233.449951|    9|       37|     2|   2225.243408|{\"Blaster\": 2, \"C...|{\"Malphite\": {\"it...|\n",
      "|KR_4242528808| 2233.449951|    8|       35|     3|   2138.763428|{\"Blaster\": 3, \"C...|{\"Malphite\": {\"it...|\n",
      "|KR_4242528808| 2233.449951|    8|       33|     4|   2003.865967|{\"Chrono\": 2, \"Cy...|{\"Leona\": {\"items...|\n",
      "|KR_4242528808| 2233.449951|    7|       31|     5|   1885.395386|{\"Blaster\": 1, \"D...|{\"KhaZix\": {\"item...|\n",
      "|KR_4242528808| 2233.449951|    9|       31|     6|   1876.700928|{\"Blaster\": 2, \"D...|{\"Ziggs\": {\"items...|\n",
      "|KR_4242528808| 2233.449951|    8|       27|     7|   1639.057739|{\"Chrono\": 2, \"Cy...|{\"Caitlyn\": {\"ite...|\n",
      "|KR_4242528808| 2233.449951|    7|       26|     8|   1562.067993|{\"Blaster\": 3, \"C...|{\"Graves\": {\"item...|\n",
      "|KR_4242832362| 2229.640625|    8|       38|     1|   2221.398193|{\"Blaster\": 2, \"D...|{\"Ziggs\": {\"items...|\n",
      "|KR_4242832362| 2229.640625|    9|       38|     2|   2221.398193|{\"Blaster\": 2, \"C...|{\"Malphite\": {\"it...|\n",
      "|KR_4242832362| 2229.640625|    8|       37|     3|   2154.725098|{\"Blaster\": 2, \"M...|{\"Yasuo\": {\"items...|\n",
      "|KR_4242832362| 2229.640625|    9|       35|     4|    2064.85791|{\"Blaster\": 2, \"C...|{\"Malphite\": {\"it...|\n",
      "|KR_4242832362| 2229.640625|    9|       31|     5|   1829.320679|{\"Chrono\": 1, \"Cy...|{\"Leona\": {\"items...|\n",
      "|KR_4242832362| 2229.640625|    8|       30|     6|   1750.491943|{\"Blaster\": 4, \"C...|{\"Ziggs\": {\"items...|\n",
      "|KR_4242832362| 2229.640625|    8|       27|     7|   1594.524536|{\"Blaster\": 2, \"M...|{\"Malphite\": {\"it...|\n",
      "|KR_4242832362| 2229.640625|    6|       24|     8|    1421.59436|{\"DarkStar\": 1, \"...|{\"JarvanIV\": {\"it...|\n",
      "|KR_4245902754| 2207.383057|    8|       37|     1|   2198.837646|{\"Blaster\": 2, \"D...|{\"Ziggs\": {\"items...|\n",
      "|KR_4245902754| 2207.383057|    8|       37|     2|   2198.837646|{\"Cybernetic\": 1,...|{\"KaiSa\": {\"items...|\n",
      "|KR_4245902754| 2207.383057|    8|       37|     3|   2193.752441|{\"Blaster\": 2, \"D...|{\"Ziggs\": {\"items...|\n",
      "|KR_4245902754| 2207.383057|    8|       35|     4|   2111.313477|{\"Chrono\": 1, \"Da...|{\"Poppy\": {\"items...|\n",
      "+-------------+------------+-----+---------+------+--------------+--------------------+--------------------+\n",
      "only showing top 20 rows\n",
      "\n"
     ]
    },
    {
     "name": "stdout",
     "output_type": "stream",
     "text": [
      "+-------------+------------+-----+---------+------+--------------+--------------------+--------------------+\n",
      "|       gameId|gameDuration|level|lastRound|Ranked|ingameDuration|         combination|            champion|\n",
      "+-------------+------------+-----+---------+------+--------------+--------------------+--------------------+\n",
      "|KR_4291707834| 1963.905273|    6|       27|     5|   1390.165771|{\"Cybernetic\": 1,...|{\"Ziggs\": {\"items...|\n",
      "|KR_4291707834| 1963.905273|    8|       37|     3|   1891.282715|{\"Blaster\": 1, \"C...|{\"Ziggs\": {\"items...|\n",
      "|KR_4291707834| 1963.905273|    6|       25|     7|    1279.46106|{\"Blaster\": 1, \"C...|{\"Fiora\": {\"items...|\n",
      "|KR_4291707834| 1963.905273|    7|       38|     2|   1955.608521|{\"DarkStar\": 1, \"...|{\"Poppy\": {\"items...|\n",
      "|KR_4291707834| 1963.905273|    8|       38|     1|   1955.608521|{\"Blaster\": 1, \"C...|{\"TwistedFate\": {...|\n",
      "|KR_4291707834| 1963.905273|    5|       21|     8|   1067.354736|{\"Rebel\": 1, \"Bla...|{\"Poppy\": {\"items...|\n",
      "|KR_4291707834| 1963.905273|    6|       33|     4|   1698.420166|{\"Protector\": 1, ...|{\"Poppy\": {\"items...|\n",
      "|KR_4291707834| 1963.905273|    6|       25|     6|    1279.90332|{\"Blaster\": 1, \"C...|{\"Xayah\": {\"items...|\n",
      "|KR_4291614366| 2082.444824|    7|       33|     4|   1891.497559|{\"Blaster\": 1, \"D...|{\"Graves\": {\"item...|\n",
      "|KR_4291614366| 2082.444824|    8|       37|     2|   2074.254639|{\"Chrono\": 4, \"Da...|{\"Malphite\": {\"it...|\n",
      "|KR_4291614366| 2082.444824|    7|       30|     5|   1703.537598|{\"Blaster\": 1, \"C...|{\"Fiora\": {\"items...|\n",
      "|KR_4291614366| 2082.444824|    5|       18|     8|   997.0089111|{\"Chrono\": 1, \"Pr...|{\"TwistedFate\": {...|\n",
      "|KR_4291614366| 2082.444824|    8|       28|     6|   1611.606079|{\"Blaster\": 1, \"C...|{\"Zoe\": {\"items\":...|\n",
      "|KR_4291614366| 2082.444824|    9|       37|     1|   2074.254639|{\"Blaster\": 2, \"C...|{\"KhaZix\": {\"item...|\n",
      "|KR_4291614366| 2082.444824|    7|       34|     3|   1949.423706|{\"Chrono\": 1, \"Cy...|{\"Leona\": {\"items...|\n",
      "|KR_4291614366| 2082.444824|    5|       21|     7|   1177.617798|{\"Blaster\": 1, \"D...|{\"Graves\": {\"item...|\n",
      "|KR_4291478512| 2242.488525|    7|       27|     7|   1525.740845|{\"Blaster\": 3, \"C...|{\"Annie\": {\"items...|\n",
      "|KR_4291478512| 2242.488525|    6|       27|     8|   1491.848999|{\"Chrono\": 1, \"Re...|{\"Xayah\": {\"items...|\n",
      "|KR_4291478512| 2242.488525|    8|       38|     3|   2131.432617|{\"Chrono\": 1, \"Da...|{\"JarvanIV\": {\"it...|\n",
      "|KR_4291478512| 2242.488525|    6|       33|     5|   1861.303101|{\"Blaster\": 1, \"C...|{\"Poppy\": {\"items...|\n",
      "+-------------+------------+-----+---------+------+--------------+--------------------+--------------------+\n",
      "only showing top 20 rows\n",
      "\n"
     ]
    }
   ],
   "source": [
    "df1.show()\n",
    "df2.show()\n",
    "df3.show()\n",
    "df4.show()\n",
    "df5.show()"
   ]
  },
  {
   "cell_type": "code",
   "execution_count": 6,
   "id": "78b455c4",
   "metadata": {
    "scrolled": true
   },
   "outputs": [
    {
     "name": "stderr",
     "output_type": "stream",
     "text": [
      "                                                                                \r"
     ]
    },
    {
     "name": "stdout",
     "output_type": "stream",
     "text": [
      "+-------+-------------+------------------+------------------+-----------------+-----------------+------------------+--------------------+--------------------+\n",
      "|summary|       gameId|      gameDuration|             level|        lastRound|           Ranked|    ingameDuration|         combination|            champion|\n",
      "+-------+-------------+------------------+------------------+-----------------+-----------------+------------------+--------------------+--------------------+\n",
      "|  count|        79999|             79999|             79999|            79999|            79999|             79999|               79999|               79999|\n",
      "|   mean|         null|2159.3728157595033| 7.892923661545769|33.75158439480494|4.499981249765622|1885.0097235465466|                null|                null|\n",
      "| stddev|         null|150.72324734212742|0.7644929118672836|4.764065529197094|2.291310351573228| 266.9176517302617|                null|                null|\n",
      "|    min|KR_4247538593|       38.88844681|                 1|                2|                1|       38.88844681|{\"Blademaster\": 1...|{\"Ahri\": {\"items\"...|\n",
      "|    max|KR_4357265434|       2772.365479|                 9|               49|                8|       2764.172363|                  {}|                  {}|\n",
      "+-------+-------------+------------------+------------------+-----------------+-----------------+------------------+--------------------+--------------------+\n",
      "\n"
     ]
    },
    {
     "name": "stderr",
     "output_type": "stream",
     "text": [
      "                                                                                \r"
     ]
    },
    {
     "name": "stdout",
     "output_type": "stream",
     "text": [
      "+-------+-------------+------------------+------------------+-----------------+------------------+------------------+--------------------+--------------------+\n",
      "|summary|       gameId|      gameDuration|             level|        lastRound|            Ranked|    ingameDuration|         combination|            champion|\n",
      "+-------+-------------+------------------+------------------+-----------------+------------------+------------------+--------------------+--------------------+\n",
      "|  count|        80000|             80000|             80000|            80000|             80000|             80000|               80000|               80000|\n",
      "|   mean|         null|2156.6076191980155|          7.855675|           33.569|               4.5|1873.9154541819894|                null|                null|\n",
      "| stddev|         null|137.20649787972252|0.7883863670740987|4.798054477242265|2.2913021681612307| 267.0393253362197|                null|                null|\n",
      "|    min|KR_3965402291|       123.8556595|                 2|                3|                 1|       121.7591171|{\"Alchemist\": 1, ...|{\"Aatrox\": {\"item...|\n",
      "|    max|KR_4402392671|       2732.243896|                 9|               51|                 8|       2723.925781|                  {}|                  {}|\n",
      "+-------+-------------+------------------+------------------+-----------------+------------------+------------------+--------------------+--------------------+\n",
      "\n"
     ]
    },
    {
     "name": "stderr",
     "output_type": "stream",
     "text": [
      "                                                                                \r"
     ]
    },
    {
     "name": "stdout",
     "output_type": "stream",
     "text": [
      "+-------+-------------+------------------+------------------+----------------+------------------+------------------+--------------------+--------------------+\n",
      "|summary|       gameId|      gameDuration|             level|       lastRound|            Ranked|    ingameDuration|         combination|            champion|\n",
      "+-------+-------------+------------------+------------------+----------------+------------------+------------------+--------------------+--------------------+\n",
      "|  count|        80000|             80000|             80000|           80000|             80000|             80000|               80000|               80000|\n",
      "|   mean|         null|2154.3420347044225|          7.895225|         33.5867|           4.49965|1875.5377141319298|                null|                null|\n",
      "| stddev|         null|136.15483538719982|0.7588177626610808|4.79001773622747|2.2916076280242668| 265.4344293875639|                null|                null|\n",
      "|    min|KR_4254769102|       125.2782974|                 3|               4|                 0|         123.15522|{\"Blademaster\": 1...|{\"Ahri\": {\"items\"...|\n",
      "|    max|KR_4365780453|       2775.935547|                 9|              49|                 8|       2767.582275|                  {}|                  {}|\n",
      "+-------+-------------+------------------+------------------+----------------+------------------+------------------+--------------------+--------------------+\n",
      "\n"
     ]
    },
    {
     "name": "stderr",
     "output_type": "stream",
     "text": [
      "                                                                                \r"
     ]
    },
    {
     "name": "stdout",
     "output_type": "stream",
     "text": [
      "+-------+-------------+------------------+------------------+-----------------+------------------+------------------+--------------------+--------------------+\n",
      "|summary|       gameId|      gameDuration|             level|        lastRound|            Ranked|    ingameDuration|         combination|            champion|\n",
      "+-------+-------------+------------------+------------------+-----------------+------------------+------------------+--------------------+--------------------+\n",
      "|  count|        79999|             79999|             79999|            79999|             79999|             79999|               79999|               79999|\n",
      "|   mean|         null|2155.4974718969784| 7.841323016537706|33.53115663945799| 4.499331241640521| 1876.467331872744|                null|                null|\n",
      "| stddev|         null|133.84335177358753|0.7711593848349675|4.784822202970557|2.2919102838214624|267.10705206985534|                null|                null|\n",
      "|    min|KR_4242528808|       181.1088409|                 3|                5|                 0|       178.9512329|{\"Blademaster\": 1...|{\"Ahri\": {\"items\"...|\n",
      "|    max|KR_4367610629|       2738.779053|                 9|               48|                 8|       2730.512695|                  {}|                  {}|\n",
      "+-------+-------------+------------------+------------------+-----------------+------------------+------------------+--------------------+--------------------+\n",
      "\n"
     ]
    },
    {
     "name": "stderr",
     "output_type": "stream",
     "text": [
      "\r",
      "[Stage 27:>                                                         (0 + 1) / 1]\r"
     ]
    },
    {
     "name": "stdout",
     "output_type": "stream",
     "text": [
      "+-------+-------------+------------------+------------------+-----------------+------------------+-----------------+--------------------+--------------------+\n",
      "|summary|       gameId|      gameDuration|             level|        lastRound|            Ranked|   ingameDuration|         combination|            champion|\n",
      "+-------+-------------+------------------+------------------+-----------------+------------------+-----------------+--------------------+--------------------+\n",
      "|  count|        80000|             80000|             80000|            80000|             80000|            80000|               80000|               80000|\n",
      "|   mean|         null|2168.4270788312056|         7.7856375|       33.1931125|          4.496375|1881.922943518915|                null|                null|\n",
      "| stddev|         null|156.29469546173084|0.8281876552319862|4.878633781673783|2.2942542697809682|279.2132566510513|                null|                null|\n",
      "|    min|KR_3890408252|               0.0|                 1|                0|                 0|              0.0|{\"Alchemist\": 1, ...|{\"Aatrox\": {\"item...|\n",
      "|    max|KR_4402801990|       2714.283691|                 9|               48|                 8|      2706.018555|                  {}|                  {}|\n",
      "+-------+-------------+------------------+------------------+-----------------+------------------+-----------------+--------------------+--------------------+\n",
      "\n"
     ]
    },
    {
     "name": "stderr",
     "output_type": "stream",
     "text": [
      "\r",
      "                                                                                \r"
     ]
    }
   ],
   "source": [
    "df1.describe().show()\n",
    "df2.describe().show()\n",
    "df3.describe().show()\n",
    "df4.describe().show()\n",
    "df5.describe().show()"
   ]
  },
  {
   "cell_type": "code",
   "execution_count": 9,
   "id": "85926ae0",
   "metadata": {},
   "outputs": [
    {
     "data": {
      "image/png": "[encoded data removed]",
      "text/plain": [
       "<Figure size 864x720 with 2 Axes>"
      ]
     },
     "metadata": {
      "needs_background": "light"
     },
     "output_type": "display_data"
    }
   ],
   "source": [
    "# Correlation Matrix\n",
    "numeric_columns = ['gameDuration', 'level', 'lastRound', 'Ranked', 'ingameDuration']\n",
    "\n",
    "numeric_df1 = df1.select(numeric_columns).toPandas()\n",
    "\n",
    "corr_matrix = numeric_df1.corr()\n",
    "\n",
    "plt.figure(figsize=(12, 10))\n",
    "sns.heatmap(corr_matrix, annot=True, cmap='coolwarm', vmin=-1, vmax=1)\n",
    "plt.title('Correlation Matrix')\n",
    "plt.show()"
   ]
  },
  {
   "cell_type": "code",
   "execution_count": 4,
   "id": "01ce95bd",
   "metadata": {
    "scrolled": true
   },
   "outputs": [],
   "source": [
    "#To add new attribute 'segment'\n",
    "df1 = df1.withColumn('segment', lit('Challenger'))\n",
    "df2 = df2.withColumn('segment', lit('Diamond'))\n",
    "df3 = df3.withColumn('segment', lit('GrandMaster'))\n",
    "df4 = df4.withColumn('segment', lit('Master'))\n",
    "df5 = df5.withColumn('segment', lit('Platinum'))"
   ]
  },
  {
   "cell_type": "code",
   "execution_count": 8,
   "id": "5f77ea14",
   "metadata": {
    "scrolled": true
   },
   "outputs": [
    {
     "name": "stdout",
     "output_type": "stream",
     "text": [
      "+-------------+------------+-----+---------+------+--------------+--------------------+--------------------+----------+\n",
      "|       gameId|gameDuration|level|lastRound|Ranked|ingameDuration|         combination|            champion|   segment|\n",
      "+-------------+------------+-----+---------+------+--------------+--------------------+--------------------+----------+\n",
      "|KR_4247538593| 2142.470703|    8|       35|     1|   2134.272217|{\"DarkStar\": 2, \"...|{\"JarvanIV\": {\"it...|Challenger|\n",
      "|KR_4247538593| 2142.470703|    9|       35|     2|   2134.272217|{\"Blaster\": 2, \"M...|{\"Malphite\": {\"it...|Challenger|\n",
      "|KR_4247538593| 2142.470703|    8|       34|     3|   2073.459229|{\"Cybernetic\": 1,...|{\"KaiSa\": {\"items...|Challenger|\n",
      "|KR_4247538593| 2142.470703|    8|       33|     4|   1998.146729|{\"Blaster\": 1, \"C...|{\"KaiSa\": {\"items...|Challenger|\n",
      "|KR_4247538593| 2142.470703|    9|       33|     5|   1986.443237|{\"Blaster\": 2, \"D...|{\"Ziggs\": {\"items...|Challenger|\n",
      "|KR_4247538593| 2142.470703|    8|       31|     6|   1878.470093|{\"Blaster\": 2, \"D...|{\"Ziggs\": {\"items...|Challenger|\n",
      "|KR_4247538593| 2142.470703|    9|       31|     7|   1866.661499|{\"Blaster\": 4, \"C...|{\"Malphite\": {\"it...|Challenger|\n",
      "|KR_4247538593| 2142.470703|    8|       28|     8|   1694.417358|{\"Blaster\": 4, \"C...|{\"Malphite\": {\"it...|Challenger|\n",
      "|KR_4247595409| 2386.106201|    9|       41|     1|   2377.768066|{\"Blaster\": 2, \"D...|{\"Malphite\": {\"it...|Challenger|\n",
      "|KR_4247595409| 2386.106201|    9|       41|     2|   2377.768066|{\"Blaster\": 4, \"C...|{\"Malphite\": {\"it...|Challenger|\n",
      "|KR_4247595409| 2386.106201|    9|       34|     3|    2026.86377|{\"Chrono\": 1, \"Da...|{\"Poppy\": {\"items...|Challenger|\n",
      "|KR_4247595409| 2386.106201|    6|       31|     4|   1860.638428|{\"DarkStar\": 2, \"...|{\"JarvanIV\": {\"it...|Challenger|\n",
      "|KR_4247595409| 2386.106201|    8|       31|     5|   1852.539673|{\"Blaster\": 1, \"D...|{\"KhaZix\": {\"item...|Challenger|\n",
      "|KR_4247595409| 2386.106201|    7|       30|     6|    1794.65625|{\"Cybernetic\": 1,...|{\"KaiSa\": {\"items...|Challenger|\n",
      "|KR_4247595409| 2386.106201|    8|       28|     7|   1662.611694|{\"Blaster\": 4, \"C...|{\"Malphite\": {\"it...|Challenger|\n",
      "|KR_4247595409| 2386.106201|    6|       24|     8|    1418.43457|{\"DarkStar\": 1, \"...|{\"JarvanIV\": {\"it...|Challenger|\n",
      "|KR_4247613214| 2232.942627|    8|       38|     1|   2224.601563|{\"Blaster\": 2, \"D...|{\"Ziggs\": {\"items...|Challenger|\n",
      "|KR_4247613214| 2232.942627|    8|       38|     2|   2224.601563|{\"Blaster\": 2, \"D...|{\"Malphite\": {\"it...|Challenger|\n",
      "|KR_4247613214| 2232.942627|    9|       37|     3|   2158.790283|{\"Demolitionist\":...|{\"Ziggs\": {\"items...|Challenger|\n",
      "|KR_4247613214| 2232.942627|    8|       34|     4|    2007.17334|{\"Blaster\": 4, \"C...|{\"Malphite\": {\"it...|Challenger|\n",
      "+-------------+------------+-----+---------+------+--------------+--------------------+--------------------+----------+\n",
      "only showing top 20 rows\n",
      "\n",
      "+-------------+------------+-----+---------+------+--------------+--------------------+--------------------+-------+\n",
      "|       gameId|gameDuration|level|lastRound|Ranked|ingameDuration|         combination|            champion|segment|\n",
      "+-------------+------------+-----+---------+------+--------------+--------------------+--------------------+-------+\n",
      "|KR_4357546733| 2326.065674|    8|       37|     4|   2089.551514|{\"DarkStar\": 2, \"...|{\"JarvanIV\": {\"it...|Diamond|\n",
      "|KR_4357546733| 2326.065674|    7|       26|     7|   1467.931519|{\"Chrono\": 1, \"Cy...|{\"Malphite\": {\"it...|Diamond|\n",
      "|KR_4357546733| 2326.065674|    7|       26|     8|   1464.743164|{\"DarkStar\": 1, \"...|{\"Poppy\": {\"items...|Diamond|\n",
      "|KR_4357546733| 2326.065674|    8|       35|     5|   2008.209961|{\"Chrono\": 2, \"Cy...|{\"TwistedFate\": {...|Diamond|\n",
      "|KR_4357546733| 2326.065674|    7|       41|     2|   2317.777588|{\"DarkStar\": 1, \"...|{\"KhaZix\": {\"item...|Diamond|\n",
      "|KR_4357546733| 2326.065674|    8|       34|     6|   1932.544556|{\"Blaster\": 4, \"C...|{\"Blitzcrank\": {\"...|Diamond|\n",
      "|KR_4357546733| 2326.065674|    9|       41|     1|   2317.777588|{\"Chrono\": 2, \"Da...|{\"TwistedFate\": {...|Diamond|\n",
      "|KR_4357546733| 2326.065674|    9|       40|     3|   2249.602783|{\"Blaster\": 1, \"C...|{\"Caitlyn\": {\"ite...|Diamond|\n",
      "|KR_4386549686| 2108.342285|    8|       30|     7|   1678.776367|{\"Blaster\": 1, \"C...|{\"Graves\": {\"item...|Diamond|\n",
      "|KR_4386549686| 2108.342285|    8|       34|     4|   1893.583374|{\"Blaster\": 3, \"C...|{\"Malphite\": {\"it...|Diamond|\n",
      "|KR_4386549686| 2108.342285|    8|       34|     3|   1893.881348|{\"Blaster\": 2, \"C...|{\"Shen\": {\"items\"...|Diamond|\n",
      "|KR_4386549686| 2108.342285|    8|       38|     2|   2100.056152|{\"DarkStar\": 1, \"...|{\"KhaZix\": {\"item...|Diamond|\n",
      "|KR_4386549686| 2108.342285|    9|       33|     5|   1839.648438|{\"Blaster\": 1, \"D...|{\"Graves\": {\"item...|Diamond|\n",
      "|KR_4386549686| 2108.342285|    7|       27|     8|    1523.08667|{\"Chrono\": 2, \"Cy...|{\"TwistedFate\": {...|Diamond|\n",
      "|KR_4386549686| 2108.342285|    8|       31|     6|   1738.415649|{\"Chrono\": 3, \"Cy...|{\"Fiora\": {\"items...|Diamond|\n",
      "|KR_4386549686| 2108.342285|    9|       38|     1|   2100.056152|{\"Blaster\": 2, \"D...|{\"Ziggs\": {\"items...|Diamond|\n",
      "|KR_4313467722| 2189.067627|    8|       34|     5|   1865.764893|{\"DarkStar\": 1, \"...|{\"Poppy\": {\"items...|Diamond|\n",
      "|KR_4313467722| 2189.067627|    6|       26|     8|   1438.372803|{\"DarkStar\": 1, \"...|{\"JarvanIV\": {\"it...|Diamond|\n",
      "|KR_4313467722| 2189.067627|    8|       33|     6|   1807.842407|{\"DarkStar\": 6, \"...|{\"Mordekaiser\": {...|Diamond|\n",
      "|KR_4313467722| 2189.067627|    7|       30|     7|   1654.360962|{\"DarkStar\": 1, \"...|{\"Poppy\": {\"items...|Diamond|\n",
      "+-------------+------------+-----+---------+------+--------------+--------------------+--------------------+-------+\n",
      "only showing top 20 rows\n",
      "\n",
      "+-------------+------------+-----+---------+------+--------------+--------------------+--------------------+-----------+\n",
      "|       gameId|gameDuration|level|lastRound|Ranked|ingameDuration|         combination|            champion|    segment|\n",
      "+-------------+------------+-----+---------+------+--------------+--------------------+--------------------+-----------+\n",
      "|KR_4254769102| 2319.661377|    9|       38|     1|   2311.472168|{\"Blaster\": 4, \"C...|{\"Malphite\": {\"it...|GrandMaster|\n",
      "|KR_4254769102| 2319.661377|    9|       38|     2|   2311.472168|{\"Blaster\": 2, \"C...|{\"Fiora\": {\"items...|GrandMaster|\n",
      "|KR_4254769102| 2319.661377|    9|       37|     3|   2247.994873|{\"DarkStar\": 2, \"...|{\"JarvanIV\": {\"it...|GrandMaster|\n",
      "|KR_4254769102| 2319.661377|    7|       33|     4|   1996.358643|{\"DarkStar\": 2, \"...|{\"KhaZix\": {\"item...|GrandMaster|\n",
      "|KR_4254769102| 2319.661377|    8|       31|     5|   1871.789551|{\"Chrono\": 1, \"Cy...|{\"Leona\": {\"items...|GrandMaster|\n",
      "|KR_4254769102| 2319.661377|    9|       30|     6|   1804.010986|{\"Blaster\": 2, \"D...|{\"Malphite\": {\"it...|GrandMaster|\n",
      "|KR_4254769102| 2319.661377|    7|       28|     7|   1707.270996|{\"Cybernetic\": 1,...|{\"KaiSa\": {\"items...|GrandMaster|\n",
      "|KR_4254769102| 2319.661377|    8|       27|     8|   1629.130859|{\"Blaster\": 2, \"D...|{\"Ziggs\": {\"items...|GrandMaster|\n",
      "|KR_4260599131| 2061.984131|    8|       35|     1|   2053.580811|{\"DarkStar\": 3, \"...|{\"KhaZix\": {\"item...|GrandMaster|\n",
      "|KR_4260599131| 2061.984131|    8|       35|     2|   2053.580811|{\"Blaster\": 1, \"D...|{\"Ziggs\": {\"items...|GrandMaster|\n",
      "|KR_4260599131| 2061.984131|    8|       34|     3|   1993.424316|{\"Blaster\": 2, \"C...|{\"Fiora\": {\"items...|GrandMaster|\n",
      "|KR_4260599131| 2061.984131|    9|       34|     4|   1984.681885|{\"Chrono\": 1, \"Cy...|{\"Leona\": {\"items...|GrandMaster|\n",
      "|KR_4260599131| 2061.984131|    8|       33|     5|   1929.427612|{\"Cybernetic\": 1,...|{\"KaiSa\": {\"items...|GrandMaster|\n",
      "|KR_4260599131| 2061.984131|    8|       31|     6|   1808.769409|{\"Blaster\": 1, \"D...|{\"Ziggs\": {\"items...|GrandMaster|\n",
      "|KR_4260599131| 2061.984131|    8|       30|     7|   1737.717407|{\"Chrono\": 1, \"Cy...|{\"Leona\": {\"items...|GrandMaster|\n",
      "|KR_4260599131| 2061.984131|    8|       26|     8|   1503.494507|{\"Chrono\": 1, \"Cy...|{\"Leona\": {\"items...|GrandMaster|\n",
      "|KR_4261384056| 2305.404785|    9|       37|     1|   2297.196289|{\"DarkStar\": 1, \"...|{\"Zoe\": {\"items\":...|GrandMaster|\n",
      "|KR_4261384056| 2305.404785|    7|       37|     2|   2297.196289|{\"DarkStar\": 3, \"...|{\"JarvanIV\": {\"it...|GrandMaster|\n",
      "|KR_4261384056| 2305.404785|    7|       35|     3|   2206.466064|{\"Cybernetic\": 1,...|{\"KaiSa\": {\"items...|GrandMaster|\n",
      "|KR_4261384056| 2305.404785|    8|       35|     4|   2202.452881|{\"Chrono\": 1, \"Da...|{\"Poppy\": {\"items...|GrandMaster|\n",
      "+-------------+------------+-----+---------+------+--------------+--------------------+--------------------+-----------+\n",
      "only showing top 20 rows\n",
      "\n",
      "+-------------+------------+-----+---------+------+--------------+--------------------+--------------------+-------+\n",
      "|       gameId|gameDuration|level|lastRound|Ranked|ingameDuration|         combination|            champion|segment|\n",
      "+-------------+------------+-----+---------+------+--------------+--------------------+--------------------+-------+\n",
      "|KR_4242528808| 2233.449951|    8|       37|     1|   2225.243408|{\"DarkStar\": 2, \"...|{\"JarvanIV\": {\"it...| Master|\n",
      "|KR_4242528808| 2233.449951|    9|       37|     2|   2225.243408|{\"Blaster\": 2, \"C...|{\"Malphite\": {\"it...| Master|\n",
      "|KR_4242528808| 2233.449951|    8|       35|     3|   2138.763428|{\"Blaster\": 3, \"C...|{\"Malphite\": {\"it...| Master|\n",
      "|KR_4242528808| 2233.449951|    8|       33|     4|   2003.865967|{\"Chrono\": 2, \"Cy...|{\"Leona\": {\"items...| Master|\n",
      "|KR_4242528808| 2233.449951|    7|       31|     5|   1885.395386|{\"Blaster\": 1, \"D...|{\"KhaZix\": {\"item...| Master|\n",
      "|KR_4242528808| 2233.449951|    9|       31|     6|   1876.700928|{\"Blaster\": 2, \"D...|{\"Ziggs\": {\"items...| Master|\n",
      "|KR_4242528808| 2233.449951|    8|       27|     7|   1639.057739|{\"Chrono\": 2, \"Cy...|{\"Caitlyn\": {\"ite...| Master|\n",
      "|KR_4242528808| 2233.449951|    7|       26|     8|   1562.067993|{\"Blaster\": 3, \"C...|{\"Graves\": {\"item...| Master|\n",
      "|KR_4242832362| 2229.640625|    8|       38|     1|   2221.398193|{\"Blaster\": 2, \"D...|{\"Ziggs\": {\"items...| Master|\n",
      "|KR_4242832362| 2229.640625|    9|       38|     2|   2221.398193|{\"Blaster\": 2, \"C...|{\"Malphite\": {\"it...| Master|\n",
      "|KR_4242832362| 2229.640625|    8|       37|     3|   2154.725098|{\"Blaster\": 2, \"M...|{\"Yasuo\": {\"items...| Master|\n",
      "|KR_4242832362| 2229.640625|    9|       35|     4|    2064.85791|{\"Blaster\": 2, \"C...|{\"Malphite\": {\"it...| Master|\n",
      "|KR_4242832362| 2229.640625|    9|       31|     5|   1829.320679|{\"Chrono\": 1, \"Cy...|{\"Leona\": {\"items...| Master|\n",
      "|KR_4242832362| 2229.640625|    8|       30|     6|   1750.491943|{\"Blaster\": 4, \"C...|{\"Ziggs\": {\"items...| Master|\n",
      "|KR_4242832362| 2229.640625|    8|       27|     7|   1594.524536|{\"Blaster\": 2, \"M...|{\"Malphite\": {\"it...| Master|\n",
      "|KR_4242832362| 2229.640625|    6|       24|     8|    1421.59436|{\"DarkStar\": 1, \"...|{\"JarvanIV\": {\"it...| Master|\n",
      "|KR_4245902754| 2207.383057|    8|       37|     1|   2198.837646|{\"Blaster\": 2, \"D...|{\"Ziggs\": {\"items...| Master|\n",
      "|KR_4245902754| 2207.383057|    8|       37|     2|   2198.837646|{\"Cybernetic\": 1,...|{\"KaiSa\": {\"items...| Master|\n",
      "|KR_4245902754| 2207.383057|    8|       37|     3|   2193.752441|{\"Blaster\": 2, \"D...|{\"Ziggs\": {\"items...| Master|\n",
      "|KR_4245902754| 2207.383057|    8|       35|     4|   2111.313477|{\"Chrono\": 1, \"Da...|{\"Poppy\": {\"items...| Master|\n",
      "+-------------+------------+-----+---------+------+--------------+--------------------+--------------------+-------+\n",
      "only showing top 20 rows\n",
      "\n"
     ]
    },
    {
     "name": "stdout",
     "output_type": "stream",
     "text": [
      "+-------------+------------+-----+---------+------+--------------+--------------------+--------------------+--------+\n",
      "|       gameId|gameDuration|level|lastRound|Ranked|ingameDuration|         combination|            champion| segment|\n",
      "+-------------+------------+-----+---------+------+--------------+--------------------+--------------------+--------+\n",
      "|KR_4291707834| 1963.905273|    6|       27|     5|   1390.165771|{\"Cybernetic\": 1,...|{\"Ziggs\": {\"items...|Platinum|\n",
      "|KR_4291707834| 1963.905273|    8|       37|     3|   1891.282715|{\"Blaster\": 1, \"C...|{\"Ziggs\": {\"items...|Platinum|\n",
      "|KR_4291707834| 1963.905273|    6|       25|     7|    1279.46106|{\"Blaster\": 1, \"C...|{\"Fiora\": {\"items...|Platinum|\n",
      "|KR_4291707834| 1963.905273|    7|       38|     2|   1955.608521|{\"DarkStar\": 1, \"...|{\"Poppy\": {\"items...|Platinum|\n",
      "|KR_4291707834| 1963.905273|    8|       38|     1|   1955.608521|{\"Blaster\": 1, \"C...|{\"TwistedFate\": {...|Platinum|\n",
      "|KR_4291707834| 1963.905273|    5|       21|     8|   1067.354736|{\"Rebel\": 1, \"Bla...|{\"Poppy\": {\"items...|Platinum|\n",
      "|KR_4291707834| 1963.905273|    6|       33|     4|   1698.420166|{\"Protector\": 1, ...|{\"Poppy\": {\"items...|Platinum|\n",
      "|KR_4291707834| 1963.905273|    6|       25|     6|    1279.90332|{\"Blaster\": 1, \"C...|{\"Xayah\": {\"items...|Platinum|\n",
      "|KR_4291614366| 2082.444824|    7|       33|     4|   1891.497559|{\"Blaster\": 1, \"D...|{\"Graves\": {\"item...|Platinum|\n",
      "|KR_4291614366| 2082.444824|    8|       37|     2|   2074.254639|{\"Chrono\": 4, \"Da...|{\"Malphite\": {\"it...|Platinum|\n",
      "|KR_4291614366| 2082.444824|    7|       30|     5|   1703.537598|{\"Blaster\": 1, \"C...|{\"Fiora\": {\"items...|Platinum|\n",
      "|KR_4291614366| 2082.444824|    5|       18|     8|   997.0089111|{\"Chrono\": 1, \"Pr...|{\"TwistedFate\": {...|Platinum|\n",
      "|KR_4291614366| 2082.444824|    8|       28|     6|   1611.606079|{\"Blaster\": 1, \"C...|{\"Zoe\": {\"items\":...|Platinum|\n",
      "|KR_4291614366| 2082.444824|    9|       37|     1|   2074.254639|{\"Blaster\": 2, \"C...|{\"KhaZix\": {\"item...|Platinum|\n",
      "|KR_4291614366| 2082.444824|    7|       34|     3|   1949.423706|{\"Chrono\": 1, \"Cy...|{\"Leona\": {\"items...|Platinum|\n",
      "|KR_4291614366| 2082.444824|    5|       21|     7|   1177.617798|{\"Blaster\": 1, \"D...|{\"Graves\": {\"item...|Platinum|\n",
      "|KR_4291478512| 2242.488525|    7|       27|     7|   1525.740845|{\"Blaster\": 3, \"C...|{\"Annie\": {\"items...|Platinum|\n",
      "|KR_4291478512| 2242.488525|    6|       27|     8|   1491.848999|{\"Chrono\": 1, \"Re...|{\"Xayah\": {\"items...|Platinum|\n",
      "|KR_4291478512| 2242.488525|    8|       38|     3|   2131.432617|{\"Chrono\": 1, \"Da...|{\"JarvanIV\": {\"it...|Platinum|\n",
      "|KR_4291478512| 2242.488525|    6|       33|     5|   1861.303101|{\"Blaster\": 1, \"C...|{\"Poppy\": {\"items...|Platinum|\n",
      "+-------------+------------+-----+---------+------+--------------+--------------------+--------------------+--------+\n",
      "only showing top 20 rows\n",
      "\n"
     ]
    }
   ],
   "source": [
    "df1.show()\n",
    "df2.show()\n",
    "df3.show()\n",
    "df4.show()\n",
    "df5.show()"
   ]
  },
  {
   "cell_type": "code",
   "execution_count": 5,
   "id": "c380273b",
   "metadata": {},
   "outputs": [],
   "source": [
    "#To combine five tables\n",
    "combined_df = df1.unionAll(df2)\n",
    "combined_df = combined_df.unionAll(df3)\n",
    "combined_df = combined_df.unionAll(df4)\n",
    "combined_df = combined_df.unionAll(df5)"
   ]
  },
  {
   "cell_type": "code",
   "execution_count": 10,
   "id": "146e269a",
   "metadata": {
    "scrolled": false
   },
   "outputs": [
    {
     "name": "stderr",
     "output_type": "stream",
     "text": [
      "[Stage 35:==============================================>           (4 + 1) / 5]\r"
     ]
    },
    {
     "name": "stdout",
     "output_type": "stream",
     "text": [
      "+-------+-------------+-----------------+------------------+-----------------+------------------+------------------+--------------------+--------------------+----------+\n",
      "|summary|       gameId|     gameDuration|             level|        lastRound|            Ranked|    ingameDuration|         combination|            champion|   segment|\n",
      "+-------+-------------+-----------------+------------------+-----------------+------------------+------------------+--------------------+--------------------+----------+\n",
      "|  count|       399998|           399998|            399998|           399998|            399998|            399998|              399998|              399998|    399998|\n",
      "|   mean|         null|2158.849411149362| 7.854156770783854|33.52631013155066| 4.499067495337477|1878.5706226108994|                null|                null|      null|\n",
      "| stddev|         null|143.2137550903731|0.7836338203892036|4.806737439872825|2.2920661600822156| 269.2215033988561|                null|                null|      null|\n",
      "|    min|KR_3890408252|              0.0|                 1|                0|                 0|               0.0|{\"Alchemist\": 1, ...|{\"Aatrox\": {\"item...|Challenger|\n",
      "|    max|KR_4402801990|      2775.935547|                 9|               51|                 8|       2767.582275|                  {}|                  {}|  Platinum|\n",
      "+-------+-------------+-----------------+------------------+-----------------+------------------+------------------+--------------------+--------------------+----------+\n",
      "\n"
     ]
    },
    {
     "name": "stderr",
     "output_type": "stream",
     "text": [
      "\r",
      "                                                                                \r"
     ]
    }
   ],
   "source": [
    "combined_df.describe().show()"
   ]
  },
  {
   "cell_type": "code",
   "execution_count": 11,
   "id": "2bb1f8a0",
   "metadata": {},
   "outputs": [
    {
     "name": "stderr",
     "output_type": "stream",
     "text": [
      "                                                                                \r"
     ]
    },
    {
     "data": {
      "image/png": "[encoded data removed]",
      "text/plain": [
       "<Figure size 720x432 with 1 Axes>"
      ]
     },
     "metadata": {
      "needs_background": "light"
     },
     "output_type": "display_data"
    }
   ],
   "source": [
    "#To create the histogram of ‘gameDuration’\n",
    "game_durations = combined_df.select('gameDuration').rdd.flatMap(lambda x: x).collect()\n",
    "plt.figure(figsize=(10, 6))\n",
    "plt.hist(game_durations, bins=50, alpha=0.75, color='blue')\n",
    "plt.title('Histogram of Game Duration')\n",
    "plt.xlabel('Game Duration (seconds)')\n",
    "plt.ylabel('Frequency')\n",
    "plt.show()"
   ]
  },
  {
   "cell_type": "code",
   "execution_count": 6,
   "id": "ed3be500",
   "metadata": {},
   "outputs": [],
   "source": [
    "# To replace the missing value of 'gameDuration' with 0\n",
    "combined_df = combined_df.fillna({'gameDuration': 0})\n",
    "\n",
    "# To filter out 'gameDuration' greater than or equal to 1200\n",
    "combined_df = combined_df.filter(col('gameDuration') > 1200)"
   ]
  },
  {
   "cell_type": "code",
   "execution_count": 13,
   "id": "b9c97aeb",
   "metadata": {},
   "outputs": [
    {
     "name": "stderr",
     "output_type": "stream",
     "text": [
      "[Stage 39:==============================================>           (4 + 1) / 5]\r"
     ]
    },
    {
     "name": "stdout",
     "output_type": "stream",
     "text": [
      "+-------+-------------+------------------+------------------+-----------------+------------------+------------------+--------------------+--------------------+----------+\n",
      "|summary|       gameId|      gameDuration|             level|        lastRound|            Ranked|    ingameDuration|         combination|            champion|   segment|\n",
      "+-------+-------------+------------------+------------------+-----------------+------------------+------------------+--------------------+--------------------+----------+\n",
      "|  count|       399606|            399606|            399606|           399606|            399606|            399606|              399606|              399606|    399606|\n",
      "|   mean|         null|2160.4056700603833|7.8578599920922105| 33.5488781449728| 4.499924926052161|1879.9135249133747|                null|                null|      null|\n",
      "| stddev|         null| 133.9105814435461|0.7735742082823168|4.751337711645589|2.2913649793124478|265.74038554889404|                null|                null|      null|\n",
      "|    min|KR_3965402291|       1210.759399|                 4|               10|                 0|       600.9366455|{\"Alchemist\": 1, ...|{\"Aatrox\": {\"item...|Challenger|\n",
      "|    max|KR_4402801990|       2775.935547|                 9|               51|                 8|       2767.582275|                  {}|                  {}|  Platinum|\n",
      "+-------+-------------+------------------+------------------+-----------------+------------------+------------------+--------------------+--------------------+----------+\n",
      "\n"
     ]
    },
    {
     "name": "stderr",
     "output_type": "stream",
     "text": [
      "\r",
      "                                                                                \r"
     ]
    }
   ],
   "source": [
    "combined_df.describe().show()"
   ]
  },
  {
   "cell_type": "code",
   "execution_count": 14,
   "id": "4fe1dfef",
   "metadata": {},
   "outputs": [
    {
     "name": "stderr",
     "output_type": "stream",
     "text": [
      "                                                                                \r"
     ]
    },
    {
     "data": {
      "image/png": "[encoded data removed]",
      "text/plain": [
       "<Figure size 720x432 with 1 Axes>"
      ]
     },
     "metadata": {
      "needs_background": "light"
     },
     "output_type": "display_data"
    }
   ],
   "source": [
    "#To create the histogram of ‘gameDuration’ after cleaning\n",
    "game_durations_filtered = combined_df.select('gameDuration').rdd.flatMap(lambda x: x).collect()\n",
    "plt.figure(figsize=(10, 6))\n",
    "plt.hist(game_durations_filtered, bins=50, alpha=0.75, color='blue')\n",
    "plt.title('Histogram of Game Duration After Cleaning')\n",
    "plt.xlabel('Game Duration (seconds)')\n",
    "plt.ylabel('Frequency')\n",
    "plt.show()"
   ]
  },
  {
   "cell_type": "code",
   "execution_count": 7,
   "id": "176e66bc",
   "metadata": {},
   "outputs": [
    {
     "name": "stdout",
     "output_type": "stream",
     "text": [
      "+--------------------------------------------------------------------------------------------------------------------------------------------------------------------+\n",
      "|combination                                                                                                                                                         |\n",
      "+--------------------------------------------------------------------------------------------------------------------------------------------------------------------+\n",
      "|{\"DarkStar\":2,\"Protector\":4,\"Rebel\":1,\"Celestial\":3,\"Mystic\":4,\"StarGuardian\":2,\"TemplateTrait\":1}                                                                  |\n",
      "|{\"Blaster\":2,\"Mercenary\":1,\"Rebel\":6,\"Blademaster\":3,\"Brawler\":1,\"Mystic\":2,\"StarGuardian\":1,\"Starship\":1,\"Valkyrie\":2}                                             |\n",
      "|{\"Cybernetic\":1,\"DarkStar\":3,\"Demolitionist\":1,\"Infiltrator\":4,\"MechPilot\":3,\"Mystic\":1,\"Sorcerer\":2,\"Valkyrie\":1}                                                  |\n",
      "|{\"Blaster\":1,\"Cybernetic\":1,\"DarkStar\":1,\"Demolitionist\":2,\"Infiltrator\":4,\"MechPilot\":3,\"Mercenary\":2,\"Sorcerer\":1,\"SpacePirate\":1,\"TemplateTrait\":1,\"Valkyrie\":2} |\n",
      "|{\"Blaster\":2,\"Demolitionist\":2,\"Mercenary\":2,\"Rebel\":6,\"Blademaster\":2,\"Celestial\":1,\"Mystic\":2,\"SpacePirate\":1,\"Starship\":1,\"Valkyrie\":1}                          |\n",
      "|{\"Blaster\":2,\"Demolitionist\":2,\"Mercenary\":2,\"Rebel\":6,\"Blademaster\":2,\"Brawler\":1,\"Mystic\":1,\"SpacePirate\":1,\"Valkyrie\":1}                                         |\n",
      "|{\"Blaster\":4,\"Chrono\":2,\"Cybernetic\":2,\"Demolitionist\":1,\"Mercenary\":1,\"Rebel\":2,\"Brawler\":4,\"Void\":1,\"SpacePirate\":2}                                              |\n",
      "|{\"Blaster\":4,\"Chrono\":2,\"Cybernetic\":2,\"Mercenary\":1,\"Rebel\":2,\"Brawler\":4,\"Void\":1,\"TemplateTrait\":1,\"Valkyrie\":1}                                                 |\n",
      "|{\"Blaster\":2,\"Demolitionist\":2,\"Mercenary\":2,\"Protector\":1,\"Rebel\":6,\"Blademaster\":3,\"Brawler\":1,\"Celestial\":2,\"Mystic\":2,\"SpacePirate\":1,\"Starship\":1,\"Valkyrie\":1}|\n",
      "|{\"Blaster\":4,\"Chrono\":2,\"Cybernetic\":2,\"Demolitionist\":2,\"Mercenary\":1,\"Rebel\":3,\"Brawler\":4,\"Void\":1,\"Starship\":1,\"TemplateTrait\":1,\"Valkyrie\":1}                  |\n",
      "+--------------------------------------------------------------------------------------------------------------------------------------------------------------------+\n",
      "only showing top 10 rows\n",
      "\n"
     ]
    },
    {
     "name": "stderr",
     "output_type": "stream",
     "text": [
      "[Stage 11:==============================================>           (4 + 1) / 5]\r"
     ]
    },
    {
     "name": "stdout",
     "output_type": "stream",
     "text": [
      "+-------+-------------+------------------+------------------+-----------------+-----------------+------------------+--------------------+--------------------+----------+\n",
      "|summary|       gameId|      gameDuration|             level|        lastRound|           Ranked|    ingameDuration|         combination|            champion|   segment|\n",
      "+-------+-------------+------------------+------------------+-----------------+-----------------+------------------+--------------------+--------------------+----------+\n",
      "|  count|       399310|            399310|            399310|           399310|           399310|            399310|              399310|              399310|    399310|\n",
      "|   mean|         null| 2160.470603216227| 7.858818962710676|33.55593148180611|4.498529964188225|1880.3212393705708|                null|                null|      null|\n",
      "| stddev|         null|133.81252705408815|0.7721591704498345|4.740036835083969|2.290680282937023|265.07577750953925|                null|                null|      null|\n",
      "|    min|KR_3965402291|       1210.759399|                 4|               10|                0|       600.9366455|{\"Alchemist\":1,\"A...|{\"Aatrox\": {\"item...|Challenger|\n",
      "|    max|KR_4402801990|       2775.935547|                 9|               51|                8|       2767.582275| {\"TemplateTrait\":1}|                  {}|  Platinum|\n",
      "+-------+-------------+------------------+------------------+-----------------+-----------------+------------------+--------------------+--------------------+----------+\n",
      "\n"
     ]
    },
    {
     "name": "stderr",
     "output_type": "stream",
     "text": [
      "\r",
      "                                                                                \r"
     ]
    }
   ],
   "source": [
    "# To filter out empty 'combination'\n",
    "\n",
    "# Set the schema\n",
    "schema = MapType(StringType(), IntegerType())\n",
    "\n",
    "# Parse JSON\n",
    "combined_df = combined_df.withColumn('parsed_combination', from_json(col('combination'), schema))\n",
    "\n",
    "# Check empty or not\n",
    "combined_df = combined_df.withColumn('combination', to_json(col('parsed_combination'))).filter(col('parsed_combination').isNotNull() & (size(col('parsed_combination')) > 0))\n",
    "\n",
    "# Turn back to JSON\n",
    "combined_df = combined_df.withColumn('combination', to_json(col('parsed_combination')))\n",
    "\n",
    "# Show the result\n",
    "combined_df.select(\"combination\").show(10, truncate=False)\n",
    "combined_df.describe().show()"
   ]
  },
  {
   "cell_type": "code",
   "execution_count": 8,
   "id": "ff531af9",
   "metadata": {},
   "outputs": [
    {
     "name": "stderr",
     "output_type": "stream",
     "text": [
      "[Stage 14:==============================================>           (4 + 1) / 5]\r"
     ]
    },
    {
     "name": "stdout",
     "output_type": "stream",
     "text": [
      "+-------+-------------+------------------+------------------+-----------------+-----------------+------------------+--------------------+--------------------+----------+\n",
      "|summary|       gameId|      gameDuration|             level|        lastRound|           Ranked|    ingameDuration|         combination|            champion|   segment|\n",
      "+-------+-------------+------------------+------------------+-----------------+-----------------+------------------+--------------------+--------------------+----------+\n",
      "|  count|       333325|            333325|            333325|           333325|           333325|            333325|              333325|              333325|    333325|\n",
      "|   mean|         null| 2158.311958416588| 7.855603390084752|33.35695192379809|4.587261681542039|1868.3858082747552|                null|                null|      null|\n",
      "| stddev|         null|134.07292696616162|0.7800744700075195|4.790183920644318|2.293510109980109|268.11496151271217|                null|                null|      null|\n",
      "|    min|KR_3965402291|       1210.759399|                 4|               10|                0|       600.9366455|{\"Alchemist\":1,\"A...|{\"Aatrox\": {\"item...|Challenger|\n",
      "|    max|KR_4402801990|       2775.935547|                 9|               51|                8|       2767.582275|{\"StarGuardian\":1...|                  {}|  Platinum|\n",
      "+-------+-------------+------------------+------------------+-----------------+-----------------+------------------+--------------------+--------------------+----------+\n",
      "\n"
     ]
    },
    {
     "name": "stderr",
     "output_type": "stream",
     "text": [
      "\r",
      "                                                                                \r"
     ]
    }
   ],
   "source": [
    "# To filter out 'TemplateTrait'\n",
    "combined_df = combined_df.filter(~array_contains(map_keys(col('parsed_combination')), 'TemplateTrait'))\n",
    "\n",
    "# Show the result\n",
    "combined_df.describe().show()"
   ]
  },
  {
   "cell_type": "code",
   "execution_count": 9,
   "id": "3cb90501",
   "metadata": {},
   "outputs": [],
   "source": [
    "# To replace the missing value of 'Ranked' with 0\n",
    "combined_df = combined_df.fillna({'Ranked': 0})\n",
    "\n",
    "# To filter out 'Ranked' equal to 0\n",
    "combined_df = combined_df.filter(col('Ranked') > 0)\n"
   ]
  },
  {
   "cell_type": "code",
   "execution_count": 18,
   "id": "0929e3bb",
   "metadata": {
    "scrolled": false
   },
   "outputs": [
    {
     "name": "stderr",
     "output_type": "stream",
     "text": [
      "                                                                                \r"
     ]
    },
    {
     "data": {
      "image/png": "[encoded data removed]",
      "text/plain": [
       "<Figure size 432x288 with 1 Axes>"
      ]
     },
     "metadata": {},
     "output_type": "display_data"
    }
   ],
   "source": [
    "# To create the pie chart of ‘Ranked’\n",
    "rank_count = combined_df.groupBy(\"Ranked\").count()\n",
    "rank_count_data = rank_count.collect()\n",
    "labels = [row['Ranked'] for row in rank_count_data]\n",
    "sizes = [row['count'] for row in rank_count_data]\n",
    "fig, ax = plt.subplots()\n",
    "ax.pie(sizes, labels=labels, autopct='%1.1f%%')\n",
    "plt.show()"
   ]
  },
  {
   "cell_type": "code",
   "execution_count": 19,
   "id": "d39330f2",
   "metadata": {},
   "outputs": [
    {
     "name": "stderr",
     "output_type": "stream",
     "text": [
      "                                                                                \r"
     ]
    },
    {
     "data": {
      "image/png": "[encoded data removed]",
      "text/plain": [
       "<Figure size 720x432 with 1 Axes>"
      ]
     },
     "metadata": {
      "needs_background": "light"
     },
     "output_type": "display_data"
    }
   ],
   "source": [
    "def count_nulls(c):\n",
    "    return count(when(col(c).isNull(), c)).alias(c)\n",
    "\n",
    "# Apply to every column\n",
    "exprs = [count_nulls(c) for c in combined_df.columns]\n",
    "nulls_df = combined_df.agg(*exprs)\n",
    "\n",
    "nulls_data = nulls_df.collect()[0].asDict()\n",
    "columns = list(nulls_data.keys())\n",
    "values = list(nulls_data.values())\n",
    "\n",
    "# To create histogram of missing values\n",
    "plt.figure(figsize=(10, 6))\n",
    "plt.barh(columns, values, color='skyblue')\n",
    "plt.xlabel('Number of Missing Values')\n",
    "plt.ylabel('Columns')\n",
    "plt.title('Missing Values per Column in combined_df')\n",
    "plt.show()"
   ]
  },
  {
   "cell_type": "code",
   "execution_count": 20,
   "id": "fedc9e74",
   "metadata": {},
   "outputs": [
    {
     "name": "stderr",
     "output_type": "stream",
     "text": [
      "                                                                                \r"
     ]
    },
    {
     "data": {
      "image/png": "[encoded data removed]",
      "text/plain": [
       "<Figure size 432x288 with 1 Axes>"
      ]
     },
     "metadata": {},
     "output_type": "display_data"
    }
   ],
   "source": [
    "# To create the pie chart of ‘segment’\n",
    "segment_count = combined_df.groupBy(\"segment\").count()\n",
    "segment_count_data = segment_count.collect()\n",
    "labels = [row['segment'] for row in segment_count_data]\n",
    "sizes = [row['count'] for row in segment_count_data]\n",
    "fig, ax = plt.subplots()\n",
    "ax.pie(sizes, labels=labels, autopct='%1.1f%%')\n",
    "plt.show()"
   ]
  },
  {
   "cell_type": "code",
   "execution_count": 10,
   "id": "d7a5a134",
   "metadata": {},
   "outputs": [
    {
     "name": "stdout",
     "output_type": "stream",
     "text": [
      "+------+-----------+\n",
      "|Ranked|first_place|\n",
      "+------+-----------+\n",
      "|     2|          0|\n",
      "|     3|          0|\n",
      "|     5|          0|\n",
      "|     6|          0|\n",
      "|     7|          0|\n",
      "|     1|          1|\n",
      "|     3|          0|\n",
      "|     6|          0|\n",
      "|     7|          0|\n",
      "|     8|          0|\n",
      "|     1|          1|\n",
      "|     2|          0|\n",
      "|     3|          0|\n",
      "|     4|          0|\n",
      "|     5|          0|\n",
      "|     6|          0|\n",
      "|     7|          0|\n",
      "|     8|          0|\n",
      "|     1|          1|\n",
      "|     2|          0|\n",
      "+------+-----------+\n",
      "only showing top 20 rows\n",
      "\n"
     ]
    }
   ],
   "source": [
    "# To create a new attribute 'first_place' to record\n",
    "combined_df = combined_df.withColumn('first_place', when(col('Ranked') == 1, 1).otherwise(0))\n",
    "combined_df.select('Ranked', 'first_place').show()"
   ]
  },
  {
   "cell_type": "code",
   "execution_count": 11,
   "id": "e3f6afd2",
   "metadata": {},
   "outputs": [
    {
     "name": "stdout",
     "output_type": "stream",
     "text": [
      "+-----------+--------------------+--------------------+\n",
      "|first_place|         combination|  parsed_combination|\n",
      "+-----------+--------------------+--------------------+\n",
      "|          0|{\"Blaster\":2,\"Mer...|{Blaster -> 2, Me...|\n",
      "|          0|{\"Cybernetic\":1,\"...|{Cybernetic -> 1,...|\n",
      "|          0|{\"Blaster\":2,\"Dem...|{Blaster -> 2, De...|\n",
      "|          0|{\"Blaster\":2,\"Dem...|{Blaster -> 2, De...|\n",
      "|          0|{\"Blaster\":4,\"Chr...|{Blaster -> 4, Ch...|\n",
      "|          1|{\"Blaster\":2,\"Dem...|{Blaster -> 2, De...|\n",
      "|          0|{\"Chrono\":1,\"Dark...|{Chrono -> 1, Dar...|\n",
      "|          0|{\"Cybernetic\":1,\"...|{Cybernetic -> 1,...|\n",
      "|          0|{\"Blaster\":4,\"Chr...|{Blaster -> 4, Ch...|\n",
      "|          0|{\"DarkStar\":1,\"Pr...|{DarkStar -> 1, P...|\n",
      "|          1|{\"Blaster\":2,\"Dem...|{Blaster -> 2, De...|\n",
      "|          0|{\"Blaster\":2,\"Dem...|{Blaster -> 2, De...|\n",
      "|          0|{\"Demolitionist\":...|{Demolitionist ->...|\n",
      "|          0|{\"Blaster\":4,\"Chr...|{Blaster -> 4, Ch...|\n",
      "|          0|{\"Blaster\":2,\"Chr...|{Blaster -> 2, Ch...|\n",
      "|          0|{\"DarkStar\":1,\"De...|{DarkStar -> 1, D...|\n",
      "|          0|{\"Chrono\":1,\"Dark...|{Chrono -> 1, Dar...|\n",
      "|          0|{\"Blaster\":2,\"Dem...|{Blaster -> 2, De...|\n",
      "|          1|{\"Blaster\":4,\"Chr...|{Blaster -> 4, Ch...|\n",
      "|          0|{\"Blaster\":1,\"Dem...|{Blaster -> 1, De...|\n",
      "+-----------+--------------------+--------------------+\n",
      "only showing top 20 rows\n",
      "\n"
     ]
    }
   ],
   "source": [
    "# To filter the useful attributes\n",
    "combined_df = combined_df.select(\"first_place\", \"combination\",  \"parsed_combination\")\n",
    "combined_df.show()"
   ]
  },
  {
   "cell_type": "code",
   "execution_count": 23,
   "id": "a6aefbe4",
   "metadata": {},
   "outputs": [
    {
     "name": "stderr",
     "output_type": "stream",
     "text": [
      "                                                                                \r"
     ]
    },
    {
     "data": {
      "image/png": "[encoded data removed]",
      "text/plain": [
       "<Figure size 1080x720 with 1 Axes>"
      ]
     },
     "metadata": {
      "needs_background": "light"
     },
     "output_type": "display_data"
    }
   ],
   "source": [
    "# To create the bar chart of frequency of each origins\n",
    "key_frequency = combined_df.select(explode(col('parsed_combination')).alias('key', 'value')).groupBy('key').count()\n",
    "key_freq_data = key_frequency.collect()\n",
    "\n",
    "keys = [row['key'] for row in key_freq_data]\n",
    "counts = [row['count'] for row in key_freq_data]\n",
    "\n",
    "plt.figure(figsize=(15, 10))\n",
    "plt.barh(keys, counts)\n",
    "plt.xlabel('Frequency')\n",
    "plt.ylabel('Origins')\n",
    "plt.title('Frequency of Each Origin in Combination')\n",
    "plt.show()"
   ]
  },
  {
   "cell_type": "code",
   "execution_count": 12,
   "id": "44b78d7a",
   "metadata": {},
   "outputs": [],
   "source": [
    "# To filter out origins of S2\n",
    "excluded_keys = ['Avatar', 'Crystal', 'Inferno', 'Light', 'Mountain', 'Glacial', \n",
    "                 'Ranger', 'Shadow', 'Warden', 'Berserker', 'Electric', 'Metal', \n",
    "                 'Ocean', 'Poison', 'Predator', 'Desert', 'Summoner', 'Assassin', \n",
    "                 'Druid', 'Mage', 'Woodland', 'Wind', 'Alchemist', 'Soulbound']\n",
    "\n",
    "condition = ' or '.join([f\"array_contains(map_keys(parsed_combination), '{k}')\" for k in excluded_keys])\n",
    "\n",
    "combined_df = combined_df.filter(~expr(condition))"
   ]
  },
  {
   "cell_type": "code",
   "execution_count": 25,
   "id": "92b5b8ec",
   "metadata": {},
   "outputs": [
    {
     "name": "stderr",
     "output_type": "stream",
     "text": [
      "                                                                                \r"
     ]
    },
    {
     "data": {
      "image/png": "[encoded data removed]",
      "text/plain": [
       "<Figure size 1080x720 with 1 Axes>"
      ]
     },
     "metadata": {
      "needs_background": "light"
     },
     "output_type": "display_data"
    }
   ],
   "source": [
    "# To create the bar chart of frequency of each origins after filtering\n",
    "key_frequency = combined_df.select(explode(col('parsed_combination')).alias('key', 'value')).groupBy('key').count()\n",
    "key_freq_data = key_frequency.collect()\n",
    "\n",
    "keys = [row['key'] for row in key_freq_data]\n",
    "counts = [row['count'] for row in key_freq_data]\n",
    "\n",
    "plt.figure(figsize=(15, 10))\n",
    "plt.barh(keys, counts)\n",
    "plt.xlabel('Frequency')\n",
    "plt.ylabel('Origins')\n",
    "plt.title('Frequency of Each S3 Origin in Combination')\n",
    "plt.show()"
   ]
  },
  {
   "cell_type": "code",
   "execution_count": 26,
   "id": "323ca721",
   "metadata": {},
   "outputs": [
    {
     "name": "stderr",
     "output_type": "stream",
     "text": [
      "                                                                                \r"
     ]
    },
    {
     "data": {
      "image/png": "[encoded data removed]",
      "text/plain": [
       "<Figure size 864x720 with 1 Axes>"
      ]
     },
     "metadata": {
      "needs_background": "light"
     },
     "output_type": "display_data"
    }
   ],
   "source": [
    "# To calculate skewness of each origin\n",
    "key_skewness = combined_df.select(explode(col(\"parsed_combination\")).alias(\"key\", \"value\")) \\\n",
    "                          .groupBy(\"key\") \\\n",
    "                          .agg(skewness(col(\"value\")).alias(\"skewness\"))\n",
    "skewness_data = key_skewness.collect()\n",
    "keys = [row['key'] for row in skewness_data]\n",
    "skewness_values = [row['skewness'] for row in skewness_data]\n",
    "\n",
    "plt.figure(figsize=(12, 10))\n",
    "plt.barh(keys, skewness_values)\n",
    "plt.xlabel('Skewness')\n",
    "plt.ylabel('Origins')\n",
    "plt.title('Skewness of Each Origin in Combination Column')\n",
    "plt.show()"
   ]
  },
  {
   "cell_type": "code",
   "execution_count": 27,
   "id": "e499bc87",
   "metadata": {},
   "outputs": [
    {
     "name": "stderr",
     "output_type": "stream",
     "text": [
      "[Stage 70:==============================================>           (4 + 1) / 5]\r"
     ]
    },
    {
     "name": "stdout",
     "output_type": "stream",
     "text": [
      "+----------------------+\n",
      "|skewness_starship_cbrt|\n",
      "+----------------------+\n",
      "|   -18.064038793901094|\n",
      "+----------------------+\n",
      "\n"
     ]
    },
    {
     "name": "stderr",
     "output_type": "stream",
     "text": [
      "\r",
      "                                                                                \r"
     ]
    }
   ],
   "source": [
    "# Cube root transformation\n",
    "transformed_df = combined_df.withColumn('starship_cbrt', pow(col(\"parsed_combination\").getItem(\"Starship\"), 1/3))\n",
    "starship_skewness = transformed_df.select(skewness(col(\"starship_cbrt\")).alias(\"skewness_starship_cbrt\"))\n",
    "starship_skewness.show()"
   ]
  },
  {
   "cell_type": "code",
   "execution_count": 28,
   "id": "38e737b3",
   "metadata": {},
   "outputs": [
    {
     "name": "stderr",
     "output_type": "stream",
     "text": [
      "                                                                                \r"
     ]
    },
    {
     "data": {
      "image/png": "[encoded data removed]",
      "text/plain": [
       "<Figure size 432x288 with 1 Axes>"
      ]
     },
     "metadata": {
      "needs_background": "light"
     },
     "output_type": "display_data"
    }
   ],
   "source": [
    "# To create the box plot of 'Starship'\n",
    "starship_df = combined_df.withColumn('Starship', col('parsed_combination').getItem('Starship'))\n",
    "pandas_starship_df = starship_df.toPandas()\n",
    "plt.boxplot(pandas_starship_df['Starship'].dropna())\n",
    "plt.title('Box Plot of Starship')\n",
    "plt.xlabel('Starship')\n",
    "plt.ylabel('Values')\n",
    "plt.show()"
   ]
  },
  {
   "cell_type": "code",
   "execution_count": 13,
   "id": "8df5b8d6",
   "metadata": {},
   "outputs": [
    {
     "name": "stderr",
     "output_type": "stream",
     "text": [
      "                                                                                \r"
     ]
    }
   ],
   "source": [
    "# Split JSON into independent columns\n",
    "keys_df = combined_df.select(explode(map_keys(col(\"parsed_combination\"))).alias(\"key\")).distinct()\n",
    "keys = [row['key'] for row in keys_df.collect()]\n",
    "\n",
    "# Expand JSON into multiple columns\n",
    "for key in keys:\n",
    "    combined_df = combined_df.withColumn(key, col(\"parsed_combination\").getItem(key))\n",
    "\n",
    "#  Fill in missing values if any\n",
    "combined_df = combined_df.fillna(0)"
   ]
  },
  {
   "cell_type": "code",
   "execution_count": 14,
   "id": "c6c1177f",
   "metadata": {},
   "outputs": [],
   "source": [
    "# Create vector assembler\n",
    "feature_columns = keys\n",
    "assembler = VectorAssembler(inputCols=feature_columns, outputCol=\"features\")\n",
    "\n",
    "combined_df = assembler.transform(combined_df)"
   ]
  },
  {
   "cell_type": "code",
   "execution_count": 15,
   "id": "c149310b",
   "metadata": {},
   "outputs": [
    {
     "name": "stderr",
     "output_type": "stream",
     "text": [
      "24/05/20 04:39:33 WARN package: Truncated the string representation of a plan since it was too large. This behavior can be adjusted by setting 'spark.sql.debug.maxToStringFields'.\n",
      "                                                                                \r"
     ]
    },
    {
     "name": "stdout",
     "output_type": "stream",
     "text": [
      "Training Dataset Count: 231343\n"
     ]
    },
    {
     "name": "stderr",
     "output_type": "stream",
     "text": [
      "[Stage 25:==============================================>           (4 + 1) / 5]\r"
     ]
    },
    {
     "name": "stdout",
     "output_type": "stream",
     "text": [
      "Test Dataset Count: 98749\n"
     ]
    },
    {
     "name": "stderr",
     "output_type": "stream",
     "text": [
      "\r",
      "                                                                                \r"
     ]
    }
   ],
   "source": [
    "# 70% train，30% test\n",
    "train_df, test_df = combined_df.randomSplit([0.7, 0.3])\n",
    "\n",
    "# Outcomes\n",
    "print(f\"Training Dataset Count: {train_df.count()}\")\n",
    "print(f\"Test Dataset Count: {test_df.count()}\")"
   ]
  },
  {
   "cell_type": "code",
   "execution_count": 16,
   "id": "0034b242",
   "metadata": {},
   "outputs": [],
   "source": [
    "# Dataset repartition\n",
    "train_df = train_df.repartition(200)\n",
    "test_df = test_df.repartition(200)\n",
    "# Change the 'first_place' into Double type\n",
    "train_df = train_df.withColumn(\"first_place\", col(\"first_place\").cast(\"double\"))\n",
    "test_df = test_df.withColumn(\"first_place\", col(\"first_place\").cast(\"double\"))"
   ]
  },
  {
   "cell_type": "code",
   "execution_count": 17,
   "id": "9eed784e",
   "metadata": {
    "scrolled": false
   },
   "outputs": [
    {
     "name": "stderr",
     "output_type": "stream",
     "text": [
      "24/05/20 04:29:12 WARN DAGScheduler: Broadcasting large task binary with size 1037.5 KiB\n",
      "[Stage 59:==============================================>           (4 + 1) / 5]\r"
     ]
    }
   ],
   "source": [
    "#Create Random Forest model\n",
    "rf = RandomForestClassifier(\n",
    "    featuresCol='features',\n",
    "    labelCol='first_place',\n",
    "    numTrees=200,\n",
    "    maxDepth=5\n",
    ")\n",
    "\n",
    "model = rf.fit(train_df)"
   ]
  },
  {
   "cell_type": "code",
   "execution_count": 18,
   "id": "9a64ae21",
   "metadata": {},
   "outputs": [
    {
     "name": "stderr",
     "output_type": "stream",
     "text": [
      "[Stage 60:==============================================>           (4 + 1) / 5]\r"
     ]
    },
    {
     "name": "stdout",
     "output_type": "stream",
     "text": [
      "+----------+-----------+--------------------+\n",
      "|prediction|first_place|            features|\n",
      "+----------+-----------+--------------------+\n",
      "|       0.0|        1.0|(23,[1,4,5,6,13,1...|\n",
      "|       0.0|        0.0|(23,[0,2,9,10,11,...|\n",
      "|       0.0|        0.0|(23,[0,2,8,9,10,1...|\n",
      "|       0.0|        0.0|(23,[0,2,7,10,11,...|\n",
      "|       0.0|        0.0|(23,[0,1,2,7,9,10...|\n",
      "+----------+-----------+--------------------+\n",
      "only showing top 5 rows\n",
      "\n"
     ]
    },
    {
     "name": "stderr",
     "output_type": "stream",
     "text": [
      "\r",
      "                                                                                \r"
     ]
    }
   ],
   "source": [
    "# Use the model to predict\n",
    "prediction_rf = model.transform(test_df)\n",
    "prediction_rf.select(\"prediction\", \"first_place\", \"features\").show(5)"
   ]
  },
  {
   "cell_type": "code",
   "execution_count": 19,
   "id": "a8ff01f1",
   "metadata": {},
   "outputs": [],
   "source": [
    "# Select (prediction, true label) and compute test error.\n",
    "evaluator = MulticlassClassificationEvaluator(labelCol=\"first_place\", predictionCol=\"prediction\", metricName=\"accuracy\")"
   ]
  },
  {
   "cell_type": "code",
   "execution_count": 20,
   "id": "ca7b91a9",
   "metadata": {},
   "outputs": [
    {
     "name": "stderr",
     "output_type": "stream",
     "text": [
      "[Stage 65:====================================================> (196 + 2) / 200]\r"
     ]
    },
    {
     "name": "stdout",
     "output_type": "stream",
     "text": [
      "Test Error = 0.118814\n"
     ]
    },
    {
     "name": "stderr",
     "output_type": "stream",
     "text": [
      "\r",
      "                                                                                \r"
     ]
    }
   ],
   "source": [
    "# Calculate test error\n",
    "accuracy = evaluator.evaluate(prediction_rf)\n",
    "print(\"Test Error = %g\" % (1.0 - accuracy))"
   ]
  },
  {
   "cell_type": "code",
   "execution_count": 21,
   "id": "667ea70c",
   "metadata": {
    "scrolled": true
   },
   "outputs": [
    {
     "name": "stderr",
     "output_type": "stream",
     "text": [
      "/home/ubuntu/spark-3.2.1-bin-hadoop2.7/python/pyspark/sql/context.py:125: FutureWarning: Deprecated in 3.0.0. Use SparkSession.builder.getOrCreate() instead.\n",
      "  warnings.warn(\n",
      "[Stage 71:=====================================================>(199 + 1) / 200]\r"
     ]
    },
    {
     "name": "stdout",
     "output_type": "stream",
     "text": [
      "Confusion Matrix:\n",
      "[[87493.     0.]\n",
      " [11797.     0.]]\n"
     ]
    },
    {
     "name": "stderr",
     "output_type": "stream",
     "text": [
      "\r",
      "                                                                                \r"
     ]
    }
   ],
   "source": [
    "# Create confusion martix\n",
    "predictionAndLabels = prediction_rf.select(\"prediction\", \"first_place\")\n",
    "\n",
    "predictionAndLabels_rdd = predictionAndLabels.rdd.map(lambda row: (row[0], row[1]))\n",
    "\n",
    "metrics = MulticlassMetrics(predictionAndLabels_rdd)\n",
    "confusion_matrix = metrics.confusionMatrix().toArray()\n",
    "\n",
    "# Outcome\n",
    "print(\"Confusion Matrix:\")\n",
    "print(confusion_matrix)"
   ]
  },
  {
   "cell_type": "code",
   "execution_count": 22,
   "id": "325341a3",
   "metadata": {},
   "outputs": [
    {
     "data": {
      "image/png": "[encoded data removed]",
      "text/plain": [
       "<Figure size 864x432 with 1 Axes>"
      ]
     },
     "metadata": {
      "needs_background": "light"
     },
     "output_type": "display_data"
    }
   ],
   "source": [
    "# Create feature importance\n",
    "importances = model.featureImportances\n",
    "\n",
    "feature_names = [attr[\"name\"] for attr in train_df.schema[\"features\"].metadata[\"ml_attr\"][\"attrs\"][\"numeric\"]]\n",
    "\n",
    "feature_importance_list = sorted(zip(feature_names, importances), key=lambda x: x[1], reverse=True)\n",
    "\n",
    "features, importances = zip(*feature_importance_list)\n",
    "\n",
    "plt.figure(figsize=(12, 6))\n",
    "plt.bar(features, importances, align='center')\n",
    "plt.xticks(rotation=90)\n",
    "plt.xlabel('Feature')\n",
    "plt.ylabel('Feature Importance')\n",
    "plt.title('Feature Importances')\n",
    "plt.show()"
   ]
  },
  {
   "cell_type": "code",
   "execution_count": 23,
   "id": "b3eb41b6",
   "metadata": {},
   "outputs": [
    {
     "name": "stderr",
     "output_type": "stream",
     "text": [
      "[Stage 83:=====================================================>(197 + 2) / 200]\r"
     ]
    },
    {
     "name": "stdout",
     "output_type": "stream",
     "text": [
      "Accuracy: 0.881186423607614\n",
      "Precision: 0.7764895131503774\n",
      "Recall: 0.881186423607614\n",
      "F1 Score: 0.8255317000016167\n"
     ]
    },
    {
     "name": "stderr",
     "output_type": "stream",
     "text": [
      "\r",
      "                                                                                \r"
     ]
    }
   ],
   "source": [
    "# Performance metrics\n",
    "precision_evaluator = MulticlassClassificationEvaluator(labelCol=\"first_place\", predictionCol=\"prediction\", metricName=\"weightedPrecision\")\n",
    "recall_evaluator = MulticlassClassificationEvaluator(labelCol=\"first_place\", predictionCol=\"prediction\", metricName=\"weightedRecall\")\n",
    "f1_evaluator = MulticlassClassificationEvaluator(labelCol=\"first_place\", predictionCol=\"prediction\", metricName=\"f1\")\n",
    "\n",
    "precision = precision_evaluator.evaluate(prediction_rf)\n",
    "recall = recall_evaluator.evaluate(prediction_rf)\n",
    "f1 = f1_evaluator.evaluate(prediction_rf)\n",
    "\n",
    "print(f\"Accuracy: {accuracy}\")\n",
    "print(f\"Precision: {precision}\")\n",
    "print(f\"Recall: {recall}\")\n",
    "print(f\"F1 Score: {f1}\")"
   ]
  },
  {
   "cell_type": "code",
   "execution_count": 24,
   "id": "9ec82f8a",
   "metadata": {},
   "outputs": [
    {
     "name": "stderr",
     "output_type": "stream",
     "text": [
      "                                                                                \r"
     ]
    },
    {
     "name": "stdout",
     "output_type": "stream",
     "text": [
      "Training Dataset Count: 263867\n"
     ]
    },
    {
     "name": "stderr",
     "output_type": "stream",
     "text": [
      "[Stage 88:==============================================>           (4 + 1) / 5]\r"
     ]
    },
    {
     "name": "stdout",
     "output_type": "stream",
     "text": [
      "Test Dataset Count: 66225\n"
     ]
    },
    {
     "name": "stderr",
     "output_type": "stream",
     "text": [
      "\r",
      "                                                                                \r"
     ]
    }
   ],
   "source": [
    "# Iteration 1 : Change the ratio of train and test\n",
    "\n",
    "# 80% train，20% test\n",
    "train_df_I1, test_df_I1 = combined_df.randomSplit([0.8, 0.2])\n",
    "\n",
    "# Outcomes\n",
    "print(f\"Training Dataset Count: {train_df_I1.count()}\")\n",
    "print(f\"Test Dataset Count: {test_df_I1.count()}\")\n",
    "\n",
    "# Dataset repartition\n",
    "train_df_I1 = train_df_I1.repartition(200)\n",
    "test_df_I1 = test_df_I1.repartition(200)\n",
    "# Change the 'first_place' into Double type\n",
    "train_df_I1 = train_df_I1.withColumn(\"first_place\", col(\"first_place\").cast(\"double\"))\n",
    "test_df_I1 = test_df_I1.withColumn(\"first_place\", col(\"first_place\").cast(\"double\"))"
   ]
  },
  {
   "cell_type": "code",
   "execution_count": 25,
   "id": "ead18b06",
   "metadata": {},
   "outputs": [
    {
     "name": "stderr",
     "output_type": "stream",
     "text": [
      "24/05/20 04:34:23 WARN DAGScheduler: Broadcasting large task binary with size 1038.9 KiB\n",
      "[Stage 122:=============================================>           (4 + 1) / 5]\r"
     ]
    }
   ],
   "source": [
    "# Create Random Forest model\n",
    "rf_I1 = RandomForestClassifier(\n",
    "    featuresCol='features',\n",
    "    labelCol='first_place',\n",
    "    numTrees=200,\n",
    "    maxDepth=5\n",
    ")\n",
    "# Train model\n",
    "model_I1 = rf_I1.fit(train_df_I1)"
   ]
  },
  {
   "cell_type": "code",
   "execution_count": 26,
   "id": "d6acd2e0",
   "metadata": {},
   "outputs": [
    {
     "name": "stderr",
     "output_type": "stream",
     "text": [
      "[Stage 137:===================================================> (193 + 2) / 200]\r"
     ]
    },
    {
     "name": "stdout",
     "output_type": "stream",
     "text": [
      "Accuracy_I1: 0.8798640996602491\n",
      "Precision_I1: 0.7741608338709408\n",
      "Recall_I1: 0.8798640996602491\n",
      "F1 Score_I1: 0.8236348936190188\n"
     ]
    },
    {
     "name": "stderr",
     "output_type": "stream",
     "text": [
      "\r",
      "                                                                                \r"
     ]
    }
   ],
   "source": [
    "# Use the model to predict\n",
    "prediction_rf_I1 = model.transform(test_df_I1)\n",
    "\n",
    "# Performance metrics of I1\n",
    "evaluator = MulticlassClassificationEvaluator(labelCol=\"first_place\", predictionCol=\"prediction\", metricName=\"accuracy\")\n",
    "precision_evaluator = MulticlassClassificationEvaluator(labelCol=\"first_place\", predictionCol=\"prediction\", metricName=\"weightedPrecision\")\n",
    "recall_evaluator = MulticlassClassificationEvaluator(labelCol=\"first_place\", predictionCol=\"prediction\", metricName=\"weightedRecall\")\n",
    "f1_evaluator = MulticlassClassificationEvaluator(labelCol=\"first_place\", predictionCol=\"prediction\", metricName=\"f1\")\n",
    "\n",
    "accuracy_I1 = evaluator.evaluate(prediction_rf_I1)\n",
    "precision_I1 = precision_evaluator.evaluate(prediction_rf_I1)\n",
    "recall_I1 = recall_evaluator.evaluate(prediction_rf_I1)\n",
    "f1_I1 = f1_evaluator.evaluate(prediction_rf_I1)\n",
    "\n",
    "print(f\"Accuracy_I1: {accuracy_I1}\")\n",
    "print(f\"Precision_I1: {precision_I1}\")\n",
    "print(f\"Recall_I1: {recall_I1}\")\n",
    "print(f\"F1 Score_I1: {f1_I1}\")"
   ]
  },
  {
   "cell_type": "code",
   "execution_count": 17,
   "id": "fb67794b",
   "metadata": {},
   "outputs": [
    {
     "name": "stderr",
     "output_type": "stream",
     "text": [
      "24/05/20 04:41:58 WARN DAGScheduler: Broadcasting large task binary with size 1009.3 KiB\n",
      "24/05/20 04:42:37 WARN DAGScheduler: Broadcasting large task binary with size 1927.2 KiB\n",
      "[Stage 59:==============================================>           (4 + 1) / 5]\r"
     ]
    }
   ],
   "source": [
    "# Iteration 2 : Change the parameters\n",
    "\n",
    "# Create Random Forest model with different parameters\n",
    "rf_I2 = RandomForestClassifier(\n",
    "    featuresCol='features',\n",
    "    labelCol='first_place',\n",
    "    numTrees=400,\n",
    "    maxDepth=5\n",
    ")\n",
    "# Train model\n",
    "model_I2 = rf_I2.fit(train_df)"
   ]
  },
  {
   "cell_type": "code",
   "execution_count": 18,
   "id": "b827bd0b",
   "metadata": {},
   "outputs": [
    {
     "name": "stderr",
     "output_type": "stream",
     "text": [
      "24/05/20 04:43:56 WARN DAGScheduler: Broadcasting large task binary with size 1378.8 KiB\n",
      "24/05/20 04:44:16 WARN DAGScheduler: Broadcasting large task binary with size 1378.8 KiB\n",
      "24/05/20 04:44:33 WARN DAGScheduler: Broadcasting large task binary with size 1378.8 KiB\n",
      "24/05/20 04:44:51 WARN DAGScheduler: Broadcasting large task binary with size 1378.8 KiB\n",
      "[Stage 74:=====================================================>(199 + 1) / 200]\r"
     ]
    },
    {
     "name": "stdout",
     "output_type": "stream",
     "text": [
      "Accuracy_I2: 0.8809911999108851\n",
      "Precision_I2: 0.7761454943204212\n",
      "Recall_I2: 0.8809911999108851\n",
      "F1 Score_I2: 0.8252515953899119\n"
     ]
    },
    {
     "name": "stderr",
     "output_type": "stream",
     "text": [
      "\r",
      "                                                                                \r"
     ]
    }
   ],
   "source": [
    "# Use the model to predict\n",
    "prediction_rf_I2 = model_I2.transform(test_df)\n",
    "\n",
    "#Performance metrics of I2\n",
    "evaluator = MulticlassClassificationEvaluator(labelCol=\"first_place\", predictionCol=\"prediction\", metricName=\"accuracy\")\n",
    "precision_evaluator = MulticlassClassificationEvaluator(labelCol=\"first_place\", predictionCol=\"prediction\", metricName=\"weightedPrecision\")\n",
    "recall_evaluator = MulticlassClassificationEvaluator(labelCol=\"first_place\", predictionCol=\"prediction\", metricName=\"weightedRecall\")\n",
    "f1_evaluator = MulticlassClassificationEvaluator(labelCol=\"first_place\", predictionCol=\"prediction\", metricName=\"f1\")\n",
    "\n",
    "accuracy_I2 = evaluator.evaluate(prediction_rf_I2)\n",
    "precision_I2 = precision_evaluator.evaluate(prediction_rf_I2)\n",
    "recall_I2 = recall_evaluator.evaluate(prediction_rf_I2)\n",
    "f1_I2 = f1_evaluator.evaluate(prediction_rf_I2)\n",
    "\n",
    "print(f\"Accuracy_I2: {accuracy_I2}\")\n",
    "print(f\"Precision_I2: {precision_I2}\")\n",
    "print(f\"Recall_I2: {recall_I2}\")\n",
    "print(f\"F1 Score_I2: {f1_I2}\")"
   ]
  },
  {
   "cell_type": "code",
   "execution_count": 19,
   "id": "522d072d",
   "metadata": {},
   "outputs": [],
   "source": [
    "# Iteration 3: Feature transformation\n",
    "\n",
    "# Normalization\n",
    "scaler_I3 = MinMaxScaler(inputCol=\"features\", outputCol=\"scaledFeatures\")\n",
    "\n",
    "#Create Random Forest model\n",
    "rf_I3 = RandomForestClassifier(\n",
    "    featuresCol='scaledFeatures',\n",
    "    labelCol='first_place',\n",
    "    numTrees=200,\n",
    "    maxDepth=5\n",
    ")\n",
    "\n",
    "# Define pipeline\n",
    "pipeline_I3 = Pipeline(stages=[scaler_I3, rf_I3])"
   ]
  },
  {
   "cell_type": "code",
   "execution_count": 20,
   "id": "8fff6ca8",
   "metadata": {},
   "outputs": [
    {
     "name": "stderr",
     "output_type": "stream",
     "text": [
      "24/05/20 04:47:21 WARN DAGScheduler: Broadcasting large task binary with size 1044.8 KiB\n",
      "[Stage 113:=============================================>           (4 + 1) / 5]\r"
     ]
    }
   ],
   "source": [
    "# Train model\n",
    "model_I3 = pipeline_I3.fit(train_df)"
   ]
  },
  {
   "cell_type": "code",
   "execution_count": 21,
   "id": "12a08e40",
   "metadata": {},
   "outputs": [
    {
     "name": "stderr",
     "output_type": "stream",
     "text": [
      "[Stage 128:===================================================> (194 + 2) / 200]\r"
     ]
    },
    {
     "name": "stdout",
     "output_type": "stream",
     "text": [
      "Accuracy_I3: 0.8809911999108851\n",
      "Precision_I3: 0.7761454943204212\n",
      "Recall_I3: 0.8809911999108851\n",
      "F1 Score_I3: 0.8252515953899119\n"
     ]
    },
    {
     "name": "stderr",
     "output_type": "stream",
     "text": [
      "\r",
      "                                                                                \r"
     ]
    }
   ],
   "source": [
    "# Use the model to predict\n",
    "prediction_rf_I3 = model_I3.transform(test_df)\n",
    "\n",
    "#Performance metrics of I3\n",
    "evaluator = MulticlassClassificationEvaluator(labelCol=\"first_place\", predictionCol=\"prediction\", metricName=\"accuracy\")\n",
    "precision_evaluator = MulticlassClassificationEvaluator(labelCol=\"first_place\", predictionCol=\"prediction\", metricName=\"weightedPrecision\")\n",
    "recall_evaluator = MulticlassClassificationEvaluator(labelCol=\"first_place\", predictionCol=\"prediction\", metricName=\"weightedRecall\")\n",
    "f1_evaluator = MulticlassClassificationEvaluator(labelCol=\"first_place\", predictionCol=\"prediction\", metricName=\"f1\")\n",
    "\n",
    "accuracy_I3 = evaluator.evaluate(prediction_rf_I3)\n",
    "precision_I3 = precision_evaluator.evaluate(prediction_rf_I3)\n",
    "recall_I3 = recall_evaluator.evaluate(prediction_rf_I3)\n",
    "f1_I3 = f1_evaluator.evaluate(prediction_rf_I3)\n",
    "\n",
    "print(f\"Accuracy_I3: {accuracy_I3}\")\n",
    "print(f\"Precision_I3: {precision_I3}\")\n",
    "print(f\"Recall_I3: {recall_I3}\")\n",
    "print(f\"F1 Score_I3: {f1_I3}\")"
   ]
  },
  {
   "cell_type": "code",
   "execution_count": 22,
   "id": "8a0d0517",
   "metadata": {},
   "outputs": [],
   "source": [
    "# Iteration 4: Change the model\n",
    "\n",
    "# standardization\n",
    "scaler_I4 = StandardScaler(inputCol=\"features\", outputCol=\"scaledFeatures\", withStd=True, withMean=True)\n",
    "\n",
    "# Create LSVC model\n",
    "lsvc_I4 = LinearSVC(featuresCol=\"scaledFeatures\", labelCol=\"first_place\", maxIter=10, regParam=0.1)\n",
    "\n",
    "# Define pipeline\n",
    "pipeline_I4 = Pipeline(stages=[scaler_I4, lsvc_I4])\n"
   ]
  },
  {
   "cell_type": "code",
   "execution_count": 23,
   "id": "85b9846e",
   "metadata": {},
   "outputs": [
    {
     "name": "stderr",
     "output_type": "stream",
     "text": [
      "24/05/20 04:50:45 WARN InstanceBuilder$NativeBLAS: Failed to load implementation from:dev.ludovic.netlib.blas.JNIBLAS\n",
      "24/05/20 04:50:45 WARN InstanceBuilder$NativeBLAS: Failed to load implementation from:dev.ludovic.netlib.blas.ForeignLinkerBLAS\n",
      "[Stage 235:=============================================>           (4 + 1) / 5]\r"
     ]
    }
   ],
   "source": [
    "# Train model\n",
    "model_I4 = pipeline_I4.fit(train_df)"
   ]
  },
  {
   "cell_type": "code",
   "execution_count": 24,
   "id": "4a890321",
   "metadata": {},
   "outputs": [
    {
     "name": "stderr",
     "output_type": "stream",
     "text": [
      "[Stage 250:===================================================> (193 + 2) / 200]\r"
     ]
    },
    {
     "name": "stdout",
     "output_type": "stream",
     "text": [
      "Accuracy_I4: 0.8809911999108851\n",
      "Precision_I4: 0.7761454943204212\n",
      "Recall_I4: 0.8809911999108851\n",
      "F1 Score_I4: 0.8252515953899119\n"
     ]
    },
    {
     "name": "stderr",
     "output_type": "stream",
     "text": [
      "\r",
      "                                                                                \r"
     ]
    }
   ],
   "source": [
    "# Use the model to predict\n",
    "prediction_rf_I4 = model_I4.transform(test_df)\n",
    "\n",
    "#Performance metrics of I4\n",
    "evaluator = MulticlassClassificationEvaluator(labelCol=\"first_place\", predictionCol=\"prediction\", metricName=\"accuracy\")\n",
    "precision_evaluator = MulticlassClassificationEvaluator(labelCol=\"first_place\", predictionCol=\"prediction\", metricName=\"weightedPrecision\")\n",
    "recall_evaluator = MulticlassClassificationEvaluator(labelCol=\"first_place\", predictionCol=\"prediction\", metricName=\"weightedRecall\")\n",
    "f1_evaluator = MulticlassClassificationEvaluator(labelCol=\"first_place\", predictionCol=\"prediction\", metricName=\"f1\")\n",
    "\n",
    "accuracy_I4 = evaluator.evaluate(prediction_rf_I4)\n",
    "precision_I4 = precision_evaluator.evaluate(prediction_rf_I4)\n",
    "recall_I4 = recall_evaluator.evaluate(prediction_rf_I4)\n",
    "f1_I4 = f1_evaluator.evaluate(prediction_rf_I4)\n",
    "\n",
    "print(f\"Accuracy_I4: {accuracy_I4}\")\n",
    "print(f\"Precision_I4: {precision_I4}\")\n",
    "print(f\"Recall_I4: {recall_I4}\")\n",
    "print(f\"F1 Score_I4: {f1_I4}\")"
   ]
  },
  {
   "cell_type": "code",
   "execution_count": null,
   "id": "13e8f154",
   "metadata": {},
   "outputs": [],
   "source": []
  }
 ],
 "metadata": {
  "kernelspec": {
   "display_name": "Python 3 (ipykernel)",
   "language": "python",
   "name": "python3"
  },
  "language_info": {
   "codemirror_mode": {
    "name": "ipython",
    "version": 3
   },
   "file_extension": ".py",
   "mimetype": "text/x-python",
   "name": "python",
   "nbconvert_exporter": "python",
   "pygments_lexer": "ipython3",
   "version": "3.10.12"
  }
 },
 "nbformat": 4,
 "nbformat_minor": 5
}
